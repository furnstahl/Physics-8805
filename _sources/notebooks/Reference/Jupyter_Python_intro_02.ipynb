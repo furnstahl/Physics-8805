{
 "cells": [
  {
   "cell_type": "markdown",
   "metadata": {},
   "source": [
    "# Python and Jupyter notebooks: part 02\n",
    "\n",
    "Last revised: 13-Aug-2019 by Dick Furnstahl [furnstahl.1@osu.edu]"
   ]
  },
  {
   "cell_type": "markdown",
   "metadata": {},
   "source": [
    "In this notebook we continue the tour of Python and Jupyter notebooks started in `TALENT_Jupyter_Python_intro_01.ipynb`."
   ]
  },
  {
   "cell_type": "markdown",
   "metadata": {},
   "source": [
    "## Aside: List comprehensions \n",
    "\n",
    "In the plotting examples in the next section we use for loops to iterate through parameters or plots because it is familiar to anyone who has done programming.  In Python, however, it is often preferred to use a different construction called a list comprehension.  Here is a quick comparison of using for loop and using a list comprehension, followed by some representative further examples of list comprehensions. You can find much more information and other examples in the online Python documentation and other sources. (The examples here are from [https://hackernoon.com/list-comprehension-in-python-8895a785550b].)"
   ]
  },
  {
   "cell_type": "code",
   "execution_count": null,
   "metadata": {},
   "outputs": [],
   "source": [
    "numbers = [1, 2, 3, 4]\n",
    "squares = []\n",
    "\n",
    "for n in numbers:   # standard for loop\n",
    "  squares.append(n**2)\n",
    "\n",
    "print(squares)  # Output: [1, 4, 9, 16]"
   ]
  },
  {
   "cell_type": "code",
   "execution_count": null,
   "metadata": {},
   "outputs": [],
   "source": [
    "numbers = [1, 2, 3, 4]\n",
    "squares = [n**2 for n in numbers]  # this is a \"list comprehension\"\n",
    "\n",
    "print(squares)  # Output: [1, 4, 9, 16]"
   ]
  },
  {
   "cell_type": "markdown",
   "metadata": {},
   "source": [
    "You can see how much cleaner the list comprehension is!"
   ]
  },
  {
   "cell_type": "code",
   "execution_count": null,
   "metadata": {},
   "outputs": [],
   "source": [
    "# Find common numbers from two lists using list comprehension\n",
    "list_a = [1, 2, 3, 4]\n",
    "list_b = [2, 3, 4, 5]\n",
    "\n",
    "common_num = [a for a in list_a for b in list_b if a == b]\n",
    "\n",
    "print(common_num) # Output: [2, 3, 4]"
   ]
  },
  {
   "cell_type": "code",
   "execution_count": null,
   "metadata": {},
   "outputs": [],
   "source": [
    "# Return numbers from the list which are not equal as a tuple:\n",
    "list_a = [1, 2, 3]\n",
    "list_b = [2, 7]\n",
    "\n",
    "different_num = [(a, b) for a in list_a for b in list_b if a != b]\n",
    "\n",
    "print(different_num) # Output: [(1, 2), (1, 7), (2, 7), (3, 2), (3, 7)]"
   ]
  },
  {
   "cell_type": "code",
   "execution_count": null,
   "metadata": {},
   "outputs": [],
   "source": [
    "# Iterate over strings\n",
    "list_a = [\"Hello\", \"World\", \"In\", \"Python\"]\n",
    "\n",
    "small_list_a = [str.lower() for str in list_a]\n",
    "\n",
    "print(small_list_a) # Output: ['hello', 'world', 'in', 'python']"
   ]
  },
  {
   "cell_type": "code",
   "execution_count": null,
   "metadata": {},
   "outputs": [],
   "source": [
    "# Making a list of lists\n",
    "list_a = [1, 2, 3]\n",
    "\n",
    "square_cube_list = [ [a**2, a**3] for a in list_a]\n",
    "\n",
    "print(square_cube_list) # Output: [[1, 1], [4, 8], [9, 27]]"
   ]
  },
  {
   "cell_type": "code",
   "execution_count": null,
   "metadata": {},
   "outputs": [],
   "source": [
    "# Using an if statement to make a list of unequal pairs of numbers\n",
    "[(x, y) for x in [1,2,3] for y in [3,1,4] if x != y]\n",
    "   # Output: [(1, 3), (1, 4), (2, 3), (2, 1), (2, 4), (3, 1), (3, 4)]"
   ]
  },
  {
   "cell_type": "markdown",
   "metadata": {},
   "source": [
    "## Iterating through a list of parameters to draw multiple lines on a plot\n",
    "\n",
    "Suppose we have a function of $x$ that also depends on a parameter (call it $r$).  We want to plot the function vs. $x$ for multiple values of $r$, either on the same plot or on separate plots.  We can do this with a lot of cutting-and-pasting, but how can we do it based on a list of $r$ values, which we can easily modify?"
   ]
  },
  {
   "cell_type": "code",
   "execution_count": null,
   "metadata": {},
   "outputs": [],
   "source": [
    "import numpy as np\n",
    "import matplotlib.pyplot as plt\n",
    "import seaborn; seaborn.set() # for plot formatting"
   ]
  },
  {
   "cell_type": "code",
   "execution_count": null,
   "metadata": {},
   "outputs": [],
   "source": [
    "def sine_map(r, x):\n",
    "    \"\"\"Sine map function: f_r(x) = r sin(pi x)\n",
    "    \"\"\"\n",
    "    return r * np.sin(np.pi * x) "
   ]
  },
  {
   "cell_type": "markdown",
   "metadata": {},
   "source": [
    "Suppose the $r$ values initially of interest are 0.3, 0.5, 0.8, and 0.9.  First the multiple copy approach:"
   ]
  },
  {
   "cell_type": "code",
   "execution_count": null,
   "metadata": {},
   "outputs": [],
   "source": [
    "x_pts = np.linspace(0,1, num=101, endpoint=True)\n",
    "\n",
    "fig = plt.figure()\n",
    "ax = fig.add_subplot(1,1,1)\n",
    "ax.set_aspect(1)\n",
    "\n",
    "ax.plot(x_pts, x_pts, color='black')  # black y=x line\n",
    "\n",
    "ax.plot(x_pts, sine_map(0.3, x_pts), label='$r = 0.3$')\n",
    "ax.plot(x_pts, sine_map(0.5, x_pts), label='$r = 0.5$')\n",
    "ax.plot(x_pts, sine_map(0.8, x_pts), label='$r = 0.8$')\n",
    "ax.plot(x_pts, sine_map(0.9, x_pts), label='$r = 0.9$')\n",
    "\n",
    "ax.legend()\n",
    "ax.set_xlabel(r'$x$')\n",
    "ax.set_ylabel(r'$f(x)$')\n",
    "ax.set_title('sine map')\n",
    "\n",
    "fig.tight_layout()\n"
   ]
  },
  {
   "cell_type": "markdown",
   "metadata": {},
   "source": [
    "This certainly works, but making changes is awkward and prone to error because we have to find where to change (or add another) $r$ but we might not remember to change it correctly everywhere.\n",
    "\n",
    "With minor changes we have a much better implementation (try modifying the list of $r$ values):"
   ]
  },
  {
   "cell_type": "code",
   "execution_count": null,
   "metadata": {
    "scrolled": false
   },
   "outputs": [],
   "source": [
    "r_list = [0.3, 0.5, 0.8, 0.9]    # this could also be a numpy array\n",
    "\n",
    "x_pts = np.linspace(0,1, num=101, endpoint=True)\n",
    "\n",
    "fig = plt.figure()\n",
    "ax = fig.add_subplot(1,1,1)\n",
    "ax.set_aspect(1)\n",
    "\n",
    "ax.plot(x_pts, x_pts, color='black')  # black y=x line\n",
    "\n",
    "# Step through the list.  r is a dummy variable.\n",
    "#  Note the use of an f-string and LaTeX by putting rf in front of the label.\n",
    "for r in r_list:\n",
    "    ax.plot(x_pts, sine_map(r, x_pts), label=rf'$r = {r:.1f}$')\n",
    "\n",
    "ax.legend()\n",
    "ax.set_xlabel(r'$x$')\n",
    "ax.set_ylabel(r'$f(x)$')\n",
    "ax.set_title('sine map')\n",
    "\n",
    "fig.tight_layout()\n"
   ]
  },
  {
   "cell_type": "code",
   "execution_count": null,
   "metadata": {},
   "outputs": [],
   "source": [
    "def plot_sine_map(r):\n",
    "    x_pts = np.linspace(0,1, num=101, endpoint=True)\n",
    "    \n",
    "    fig = plt.figure()\n",
    "    ax = fig.add_subplot(1,1,1)\n",
    "    ax.set_aspect(1)\n",
    "    \n",
    "    ax.plot(x_pts, x_pts, color='black')  # black y=x line\n",
    "    \n",
    "    # Step through the list.  r is a dummy variable.\n",
    "    #  Note the use of an f-string and LaTeX by putting rf in front of the label.\n",
    "    for r in r_list:\n",
    "        ax.plot(x_pts, sine_map(r, x_pts), label=rf'$r = {r:.1f}$')\n",
    "    \n",
    "    ax.legend()\n",
    "    ax.set_xlabel(r'$x$')\n",
    "    ax.set_ylabel(r'$f(x)$')\n",
    "    ax.set_title('sine map')\n",
    "    \n",
    "    fig.tight_layout()\n"
   ]
  },
  {
   "cell_type": "markdown",
   "metadata": {},
   "source": [
    "Now suppose we want each the different $r$ values to be plotted on separate graphs?  We could make multiple  copies of the single plot.  Instead, lets make a function to do any single plot and call it for each $r$ in the list."
   ]
  },
  {
   "cell_type": "code",
   "execution_count": null,
   "metadata": {},
   "outputs": [],
   "source": [
    "r_list = [0.3, 0.5, 0.8, 0.9]    # this could also be a numpy array\n",
    "\n",
    "def plot_sine_map(r):\n",
    "    x_pts = np.linspace(0,1, num=101, endpoint=True)\n",
    "\n",
    "    fig = plt.figure()\n",
    "    ax = fig.add_subplot(1,1,1)\n",
    "    ax.set_aspect(1)\n",
    "\n",
    "    ax.plot(x_pts, x_pts, color='black')  # black y=x line\n",
    "\n",
    "#  Note the use of an f-string and LaTeX by putting rf in front of the label.\n",
    "    ax.plot(x_pts, sine_map(r, x_pts), label=rf'$r = {r:.1f}$')\n",
    "\n",
    "    ax.legend()\n",
    "    ax.set_xlabel(r'$x$')\n",
    "    ax.set_ylabel(r'$f(x)$')\n",
    "    ax.set_title(rf'sine map for $r = {r:.1f}$')\n",
    "    \n",
    "    fig.tight_layout()\n",
    "\n",
    "    \n",
    "# Step through the list.  r is a dummy variable.\n",
    "for r in r_list:\n",
    "    plot_sine_map(r)\n"
   ]
  },
  {
   "cell_type": "markdown",
   "metadata": {},
   "source": [
    "What if instead of distinct plots we wanted subplots of the same figure?  Then create the figure and subplot axes outside of the function and have the function return the modified axis object."
   ]
  },
  {
   "cell_type": "code",
   "execution_count": null,
   "metadata": {},
   "outputs": [],
   "source": [
    "r_list = [0.3, 0.5, 0.8, 0.9]    # this could also be a numpy array\n",
    "\n",
    "def plot_sine_map(r, ax_passed):\n",
    "    x_pts = np.linspace(0,1, num=101, endpoint=True)\n",
    "\n",
    "    ax_passed.set_aspect(1)\n",
    "\n",
    "    ax_passed.plot(x_pts, x_pts, color='black')  # black y=x line\n",
    "\n",
    "#  Note the use of an f-string and LaTeX by putting rf in front of the label.\n",
    "    ax_passed.plot(x_pts, sine_map(r, x_pts), label=rf'$r = {r:.1f}$')\n",
    "\n",
    "    ax_passed.legend()\n",
    "    ax_passed.set_xlabel(r'$x$')\n",
    "    ax_passed.set_ylabel(r'$f(x)$')\n",
    "    ax_passed.set_title(rf'sine map for $r = {r:.1f}$')\n",
    "    \n",
    "    return ax_passed\n",
    "\n",
    "fig = plt.figure(figsize=(8, 8))\n",
    "  \n",
    "# Step through the list.  r is a dummy variable.\n",
    "rows = 2\n",
    "cols = 2\n",
    "for index, r in enumerate(r_list):\n",
    "    ax = fig.add_subplot(rows, cols, index+1)\n",
    "    ax = plot_sine_map(r, ax)\n",
    "\n",
    "fig.tight_layout()\n",
    "    "
   ]
  },
  {
   "cell_type": "code",
   "execution_count": null,
   "metadata": {},
   "outputs": [],
   "source": []
  }
 ],
 "metadata": {
  "kernelspec": {
   "display_name": "Python 3 (ipykernel)",
   "language": "python",
   "name": "python3"
  },
  "language_info": {
   "codemirror_mode": {
    "name": "ipython",
    "version": 3
   },
   "file_extension": ".py",
   "mimetype": "text/x-python",
   "name": "python",
   "nbconvert_exporter": "python",
   "pygments_lexer": "ipython3",
   "version": "3.9.6"
  }
 },
 "nbformat": 4,
 "nbformat_minor": 2
}
