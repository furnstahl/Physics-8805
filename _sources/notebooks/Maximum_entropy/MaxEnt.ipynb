{
 "cells": [
  {
   "cell_type": "markdown",
   "metadata": {},
   "source": [
    "# Ignorance pdfs: Indifference and translation groups\n",
    "\n",
    "\n",
    "<!-- dom:TITLE: Learning from data: Assigning probabilities -->\n",
    "<!-- dom:AUTHOR: Christian Forssén at Department of Physics, Chalmers University of Technology, Sweden -->\n",
    "<!-- Author: -->  \n",
    "**Christian Forssén**, Department of Physics, Chalmers University of Technology, Sweden  \n",
    "<!-- dom:AUTHOR: Daniel Phillips at Department of Physics and Astronomy, Ohio University -->\n",
    "<!-- Author: --> \n",
    "**Daniel Phillips**, Department of Physics and Astronomy, Ohio University\n",
    "\n",
    "Date: **Oct 23, 2019**\n",
    "\n",
    "Copyright 2018-2019, Christian Forssén. Released under CC Attribution-NonCommercial 4.0 license\n",
    "\n",
    "\n",
    "\n",
    "\n",
    "## Discrete permutation invariance\n",
    "* Consider a six-sided die\n",
    "\n",
    "* How do we assign $p_i \\equiv p(X_i|I)$, $i \\in \\{1, 2, 3, 4, 5, 6\\}$?\n",
    "\n",
    "* We do know $\\sum_i p(X_i|I) = 1$\n",
    "\n",
    "* Invariance under labeling $\\Rightarrow p(X_i|I)=1/6$\n",
    "\n",
    "  * provided that the prior information $I$ says nothing that breaks the permutation symmetry.\n",
    "\n",
    "\n",
    "## Location invariance\n",
    "Indifference to a constant shift $x_0$ for a location parameter $x$ implies that"
   ]
  },
  {
   "cell_type": "markdown",
   "metadata": {},
   "source": [
    "$$\n",
    "p(x|I) dx \\approx p(x+ x_0|I) d(x+x_0) =  p(x+ x_0|I) dx,\n",
    "$$"
   ]
  },
  {
   "cell_type": "markdown",
   "metadata": {},
   "source": [
    "in the allowed range.\n",
    "\n",
    "Location invariance implies that"
   ]
  },
  {
   "cell_type": "markdown",
   "metadata": {},
   "source": [
    "$$\n",
    "p(x|I) =  p(x+ x_0|I) \\quad \\Rightarrow \\quad p(x|I) = \\mathrm{constant}.\n",
    "$$"
   ]
  },
  {
   "cell_type": "markdown",
   "metadata": {},
   "source": [
    "* Provided that the prior information $I$ says nothing that breaks the symmetry.\n",
    "\n",
    "* The pdf will be zero outside the allowed range (specified by $I$).\n",
    "\n",
    "## Scale invariance\n",
    "\n",
    "Indifference to a re-scaling $\\lambda$ of a scale parameter $x$ implies that"
   ]
  },
  {
   "cell_type": "markdown",
   "metadata": {},
   "source": [
    "$$\n",
    "p(x|I) dx \\approx p(\\lambda x|I) d(\\lambda x) =  \\lambda p(\\lambda x|I) dx,\n",
    "$$"
   ]
  },
  {
   "cell_type": "markdown",
   "metadata": {},
   "source": [
    "in the allowed range.\n",
    "\n",
    "Invariance under re-scaling implies that"
   ]
  },
  {
   "cell_type": "markdown",
   "metadata": {},
   "source": [
    "$$\n",
    "p(x|I) = \\lambda p(\\lambda x|I) \\quad \\Rightarrow \\quad p(x|I) \\propto 1/x.\n",
    "$$"
   ]
  },
  {
   "cell_type": "markdown",
   "metadata": {},
   "source": [
    "* Provided that the prior information $I$ says nothing that breaks the symmetry.\n",
    "\n",
    "* The pdf will be zero outside the allowed range (specified by $I$).\n",
    "\n",
    "* This prior is often called a *Jeffrey's prior*; it represents a complete ignorance of a scale parameter within an allowed range.\n",
    "\n",
    "* It is equivalent to a uniform pdf for the logarithm: $p(\\log(x)|I) = \\mathrm{constant}$\n",
    "\n",
    "  * as can be verified with a change of variable $y=\\log(x)$, see lecture notes on error propagation.\n",
    "\n",
    "\n",
    "### Example: Straight-line model\n",
    "\n",
    "Consider the theoretical model"
   ]
  },
  {
   "cell_type": "markdown",
   "metadata": {},
   "source": [
    "$$\n",
    "y_\\mathrm{th}(x) = \\theta_1  x  + \\theta_0.\n",
    "$$"
   ]
  },
  {
   "cell_type": "markdown",
   "metadata": {},
   "source": [
    "* Would you consider the intercept $\\theta_0$ a location or a scale parameter, or something else?\n",
    "\n",
    "* Would you consider the slope $\\theta_1$ a location or a scale parameter, or something else?\n",
    "\n",
    "Consider also the statistical model for the observed data $y_i = y_\\mathrm{th}(x_i) + \\epsilon_i$, where we assume independent, Gaussian noise $\\epsilon_i \\sim \\mathcal{N}(0, \\sigma^2)$.\n",
    "* Would you consider the standard deviation $\\sigma$ a location or a scale parameter, or something else?\n",
    "\n",
    "## Symmetry invariance\n",
    "\n",
    "* In fact, by symmetry indifference we could as well have written the linear model as $x_\\mathrm{th}(y) = \\theta_1'  y  + \\theta_0'$\n",
    "\n",
    "* We would then equate the probability elements for the two models"
   ]
  },
  {
   "cell_type": "markdown",
   "metadata": {},
   "source": [
    "$$\n",
    "p(\\theta_0, \\theta_1 | I) d\\theta_0 d\\theta_1 = q(\\theta_0', \\theta_1' | I) d\\theta_0' d\\theta_1'.\n",
    "$$"
   ]
  },
  {
   "cell_type": "markdown",
   "metadata": {},
   "source": [
    "* The transformation gives $(\\theta_0', \\theta_1') = (-\\theta_1^{-1}\\theta_0, \\theta_1^{-1})$.\n",
    "\n",
    "This change of variables implies that"
   ]
  },
  {
   "cell_type": "markdown",
   "metadata": {},
   "source": [
    "$$\n",
    "q(\\theta_0', \\theta_1' | I) = p(\\theta_0, \\theta_1 | I) \\left| \\frac{d\\theta_0 d\\theta_1}{d\\theta_0' d\\theta_1'} \\right|,\n",
    "$$"
   ]
  },
  {
   "cell_type": "markdown",
   "metadata": {},
   "source": [
    "where the (absolute value of the) determinant of the Jacobian is"
   ]
  },
  {
   "cell_type": "markdown",
   "metadata": {},
   "source": [
    "$$\n",
    "\\left| \\frac{d\\theta_0 d\\theta_1}{d\\theta_0' d\\theta_1'} \\right| \n",
    "= \\mathrm{abs} \\left( \n",
    "\\begin{vmatrix}\n",
    "\\frac{\\partial \\theta_0}{\\partial \\theta_0'} & \\frac{\\partial \\theta_0}{\\partial \\theta_1'} \\\\\n",
    "\\frac{\\partial \\theta_1}{\\partial \\theta_0'} & \\frac{\\partial \\theta_1}{\\partial \\theta_1'} \n",
    "\\end{vmatrix}\n",
    "\\right)\n",
    "= \\frac{1}{\\left( \\theta_1' \\right)^3}.\n",
    "$$"
   ]
  },
  {
   "cell_type": "markdown",
   "metadata": {},
   "source": [
    "* In summary we find that $\\theta_1^3 p(\\theta_0, \\theta_1 | I) = p(-\\theta_1^{-1}\\theta_0, \\theta_1^{-1}|I).$\n",
    "\n",
    "* This functional equation is satisfied by"
   ]
  },
  {
   "cell_type": "markdown",
   "metadata": {},
   "source": [
    "$$\n",
    "p(\\theta_0, \\theta_1 | I) \\propto \\frac{1}{\\left( 1 + \\theta_1^2 \\right)^{3/2}}.\n",
    "$$"
   ]
  },
  {
   "cell_type": "markdown",
   "metadata": {},
   "source": [
    "<!-- dom:FIGURE:[fig/slope_priors.png, width=800 frac=0.8] 100 samples of straight lines with fixed intercept equal to 0 and slopes sampled from three different pdfs. Note in particular the  prior preference for large slopes that results from using a uniform pdf. -->\n",
    "<!-- begin figure -->\n",
    "\n",
    "<p>100 samples of straight lines with fixed intercept equal to 0 and slopes sampled from three different pdfs. Note in particular the  prior preference for large slopes that results from using a uniform pdf.</p>\n",
    "<img src=\"../../_images/slope_priors.png\" width=800>\n",
    "\n",
    "<!-- end figure -->\n",
    "\n",
    "\n",
    "\n",
    "## The principle of maximum entropy\n",
    "\n",
    "Having dealt with ignorance, let us move on to more enlightened situations.\n",
    "\n",
    "Consider a die with the usual six faces that was rolled a very large number of times. Suppose that we were only told that the average number of dots was 2.5. What (discrete) pdf would we assign? I.e. what are the probabilities $\\{ p_i \\}$ that the face on top had $i$ dots after a single throw?\n",
    "\n",
    "The available information can be summarized as follows"
   ]
  },
  {
   "cell_type": "markdown",
   "metadata": {},
   "source": [
    "$$\n",
    "\\sum_{i=1}^6 p_i = 1, \\qquad \\sum_{i=1}^6 i p_i = 2.5\n",
    "$$"
   ]
  },
  {
   "cell_type": "markdown",
   "metadata": {},
   "source": [
    "This is obviously not a normal die, with uniform probability $p_i=1/6$, since the average result would then be 3.5. But there are many candidate pdfs that would reproduce the given information. Which one should we prefer?\n",
    "\n",
    "It turns out that there are several different arguments that all point in a direction that is very familiar to people with a physics background. Namely that we should prefer the probability distribution that maximizes an entropy measure, while fulfilling the given constraints. \n",
    "\n",
    "It will be shown below that the preferred pdf $\\{ p_i \\}$ is the one that maximizes"
   ]
  },
  {
   "cell_type": "markdown",
   "metadata": {},
   "source": [
    "$$\n",
    "Q\\left( \\{ p_i \\} ; \\lambda_0, \\lambda_1 \\right)\n",
    "= -\\sum_{i=1}^6 p_i \\log(p_i) \n",
    "+ \\lambda_0 \\left( 1 - \\sum_{i=1}^6 p_i \\right)\n",
    "+ \\lambda_1 \\left( 2.5 - \\sum_{i=1}^6 i p_i \\right),\n",
    "$$"
   ]
  },
  {
   "cell_type": "markdown",
   "metadata": {},
   "source": [
    "where the constraints are included via the method of [Lagrange multipliers](https://en.wikipedia.org/wiki/Lagrange_multiplier).\n",
    "\n",
    "## The entropy of Scandinavians\n",
    "\n",
    "Let's consider another pdf assignment problem. This is originally the *kangaroo problem* (Gull and Skilling, 1984), but translated here into a local context. The problem is stated as follows:\n",
    "\n",
    "Information:\n",
    "  :    \n",
    "  70% of all Scandinavians have blonde hair, and 10% of all Scandinavians are left handed.\n",
    "\n",
    "Question:\n",
    "  :    \n",
    "  On the basis of this information alone, what proportion of Scandinavians are both blonde and left handed?\n",
    "\n",
    "We note that for any one given Scandinavian there are four distinct possibilities: \n",
    "1. Blonde and left handed (probability $p_1$).\n",
    "\n",
    "2. Blonde and right handed (probability $p_2$).\n",
    "\n",
    "3. Not blonde and left handed (probability $p_3$).\n",
    "\n",
    "4. Not blonde and right handed (probability $p_4$).\n",
    "\n",
    "The following 2x2 contingency table\n",
    "\n",
    "\n",
    "<table border=\"1\">\n",
    "<thead>\n",
    "<tr><th align=\"center\">          </th> <th align=\"center\">Left handed</th> <th align=\"center\">Right handed</th> </tr>\n",
    "</thead>\n",
    "<tbody>\n",
    "<tr><td align=\"left\">   Blonde        </td> <td align=\"center\">   $p_1$          </td> <td align=\"center\">   $p_2$           </td> </tr>\n",
    "<tr><td align=\"left\">   Not blonde    </td> <td align=\"center\">   $p_3$          </td> <td align=\"center\">   $p_4$           </td> </tr>\n",
    "</tbody>\n",
    "</table>\n",
    "\n",
    "can be written in terms of a single variable $x$ due to the normalization condition $\\sum_{i=1}^4 p_i = 1$, and the available information $p_1 + p_2 = 0.7$ and $p_1 + p_3 = 0.1$\n",
    "\n",
    "\n",
    "<table border=\"1\">\n",
    "<thead>\n",
    "<tr><th align=\"center\">          </th> <th align=\"center\">   Left handed   </th> <th align=\"center\">Right handed</th> </tr>\n",
    "</thead>\n",
    "<tbody>\n",
    "<tr><td align=\"left\">   Blonde        </td> <td align=\"center\">   $0 \\le x \\le 0.1$    </td> <td align=\"center\">   $0.7-x$         </td> </tr>\n",
    "<tr><td align=\"left\">   Not blonde    </td> <td align=\"center\">   $0.1-x$              </td> <td align=\"center\">   $0.2+x$         </td> </tr>\n",
    "</tbody>\n",
    "</table>\n",
    "\n",
    "But which choice of $x$ is preferred?\n",
    "\n",
    "## The monkey argument\n",
    "\n",
    "The monkey argument is a model for assigning probabilities to $M$ different alternatives that satisfy some constraint as described by $I$: \n",
    "* Monkeys throwing $N$ balls into $M$ equally sized boxes.\n",
    "\n",
    "* The normalization condition $N = \\sum_{i=1}^M n_i$.\n",
    "\n",
    "* The fraction of balls in each box gives a possible assignment for the corresponding probability $p_i = n_i / N$.\n",
    "\n",
    "* The distribution of balls $\\{ n_i \\}$ divided by $N$ is therefore a candidate pdf $\\{ p_i \\}$.\n",
    "\n",
    "After one round the monkeys have distributed their (large number of) balls over the $M$ boxes.\n",
    "* The resulting pdf might not be consistent with the constraints of $I$, however, in which case it should be rejected as a possible candidate.\n",
    "\n",
    "* After many such rounds, some distributions will be found to come up more often than others. The one that appears most frequently (and satisfies $I$) would be a sensible choice for $p(\\{p_i\\}|I)$.\n",
    "\n",
    "* Since our ideal monkeys have no agenda of their own to influence the distribution, this most favoured distribution can be regarded as the one that best represents our given state of knowledge.\n",
    "\n",
    "Now, let us see how this preferred solution corresponds to the pdf with the largest `entropy`. Remember in the following that $N$ (and $n_i$) are considered to be very large numbers ($N/M \\gg 1$)\n",
    "\n",
    "* The logarithm of the number of micro-states, $W$, as a function of $\\{p_i\\}$ is (where we use the Stirling approximation $\\log(n!) \\approx n\\log(n) - n$ for large numbers, and there is a cancellation of two terms)"
   ]
  },
  {
   "cell_type": "markdown",
   "metadata": {},
   "source": [
    "$$\n",
    "\\log(W(\\{n_i\\})) = \\log(N!) − \\sum_{i=1}^M \\log(n_i!) \n",
    "\\approx N\\log(N) - \\sum_{i=1}^M n_i\\log(n_i),\n",
    "$$"
   ]
  },
  {
   "cell_type": "markdown",
   "metadata": {},
   "source": [
    "* There are $M^N$ different ways to distribute the balls.\n",
    "\n",
    "* The micro-states $\\{ n_i\\}$ are connected to the pdf $\\{ p_i \\}$ and the frequency of a given pdf is given by"
   ]
  },
  {
   "cell_type": "markdown",
   "metadata": {},
   "source": [
    "$$\n",
    "F(\\{p_i\\}) = \\frac{\\text{number of ways of obtaining } \\{n_i\\}}{M^N}\n",
    "$$"
   ]
  },
  {
   "cell_type": "markdown",
   "metadata": {},
   "source": [
    "* Therefore, the logarithm of this frequency is"
   ]
  },
  {
   "cell_type": "markdown",
   "metadata": {},
   "source": [
    "$$\n",
    "\\log(F(\\{p_i\\})) \\approx -N \\log(M) + N\\log(N) - \\sum_{i=1}^M n_i\\log(n_i)\n",
    "$$"
   ]
  },
  {
   "cell_type": "markdown",
   "metadata": {},
   "source": [
    "Substituting $p_i = n_i/N$, and using the normalization condition finally gives"
   ]
  },
  {
   "cell_type": "markdown",
   "metadata": {},
   "source": [
    "$$\n",
    "\\log(F(\\{p_i\\})) \\approx -N \\log(M) - N \\sum_{i=1}^M p_i\\log(p_i)\n",
    "$$"
   ]
  },
  {
   "cell_type": "markdown",
   "metadata": {},
   "source": [
    "We note that $N$ and $M$ are constants so that the preferred pdf is given by the $\\{ p_i \\}$ that maximizes"
   ]
  },
  {
   "cell_type": "markdown",
   "metadata": {},
   "source": [
    "$$\n",
    "S = - \\sum_{i=1}^M p_i\\log(p_i).\n",
    "$$"
   ]
  },
  {
   "cell_type": "markdown",
   "metadata": {},
   "source": [
    "You might recognise this quantity as the *entropy* from statistical mechanics. The interpretation of entropy in statistical mechanics is the measure of uncertainty, which remains about a system after its observable macroscopic properties, such as temperature, pressure and volume, have been taken into account. For a given set of macroscopic variables, the entropy measures the degree to which the probability of the system is spread out over different possible microstates. Specifically, entropy is a logarithmic measure of the number of micro-states with significant probability of being occupied $S = -k_B \\sum_i p_i \\log(p_i)$, where $k_B$ is the Boltzmann constant.\n",
    "\n",
    "### Why maximize the entropy?\n",
    "\n",
    "* Information theory: maximum entropy=minimum information (Shannon, 1948).\n",
    "\n",
    "* Logical consistency (Shore & Johnson, 1960).\n",
    "\n",
    "* Uncorrelated assignments related monotonically to $S$ (Skilling, 1988).\n",
    "\n",
    "Consider the third argument. Let us check it empirically to the problem of hair colour and handedness of Scandinavians. We are interested in determining $p_1 \\equiv p(L,B|I) \\equiv x$, the probability that a Scandinavian is both left-handed and blonde. However, in this simple example we can immediately realize that the assignment $p_1=0.07$ is the only one that implies no correlation between left-handedness and hair color. Any joint probability smaller than 0.07 implies that left-handed people are less likely to be blonde, and any larger value indicates that left-handed people are more likely to be blonde.\n",
    "\n",
    "So unless you have specific information about the existence of such a correlation, you should better not build it into the assignment of the probability $p_1$. \n",
    "\n",
    "**Question**: Can you show why $p_1 < 0.07$ and $p_1 > 0.07$ corresponds to left-handedness and blondeness being dependent variables?\n",
    "\n",
    "Let us now empirically consider a few variational functions of $\\{ p_i \\}$ and see if any of them gives a maximum that corresponds to the uncorrelated assignment $x=0.07$, which implies $p_1 = 0.07, \\, p_2 = 0.63, \\, p_3 = 0.03, \\, p_4 = 0.27$. A few variational functions and their prediction for $x$ are shown in the following table.\n",
    "\n",
    "\n",
    "<table border=\"1\">\n",
    "<thead>\n",
    "<tr><th align=\"center\">    Variational function   </th> <th align=\"center\">Optimal x</th> <th align=\"center\">Implied correlation</th> </tr>\n",
    "</thead>\n",
    "<tbody>\n",
    "<tr><td align=\"center\">   $-\\sum_i p_i \\log(p_i)$        </td> <td align=\"center\">   0.070        </td> <td align=\"center\">   None                   </td> </tr>\n",
    "<tr><td align=\"center\">   $\\sum_i \\log(p_i)$             </td> <td align=\"center\">   0.053        </td> <td align=\"center\">   Negative               </td> </tr>\n",
    "<tr><td align=\"center\">   $-\\sum_i p_i^2 \\log(p_i)$      </td> <td align=\"center\">   0.100        </td> <td align=\"center\">   Positive               </td> </tr>\n",
    "<tr><td align=\"center\">   $-\\sum_i \\sqrt{p_i(1-p_i)}$    </td> <td align=\"center\">   0.066        </td> <td align=\"center\">   Negative               </td> </tr>\n",
    "</tbody>\n",
    "</table>\n",
    "\n",
    "The assignment based on the entropy measure is the only one that respects this lack of correlations.\n",
    "\n",
    "<!-- dom:FIGURE:[fig/scandinavian_entropy.png, width=800 frac=0.8] Four different variational functions $f\\left( \\{ p_i \\} \\right)$. The optimal $x$ for each one is shown by a circle. The uncorrelated assignment $x=0.07$ is shown by a vertical line. -->\n",
    "<!-- begin figure -->\n",
    "\n",
    "<p>Four different variational functions $f\\left( \\{ p_i \\} \\right)$. The optimal $x$ for each one is shown by a circle. The uncorrelated assignment $x=0.07$ is shown by a vertical line.</p>\n",
    "<img src=\"../../_images/scandinavian_entropy.png\" width=800>\n",
    "\n",
    "<!-- end figure -->\n",
    "\n",
    "\n",
    "### Continuous case\n",
    "\n",
    "Return to monkeys, but now with different probabilities for each bin.Then"
   ]
  },
  {
   "cell_type": "markdown",
   "metadata": {},
   "source": [
    "$$\n",
    "S= −\\sum_{i=1}^M p_i \\log \\left( \\frac{p_i}{m_i} \\right),\n",
    "$$"
   ]
  },
  {
   "cell_type": "markdown",
   "metadata": {},
   "source": [
    "which is often known as the *Shannon-Jaynes entropy*, or the *Kullback number*, or the *cross entropy* (with opposite sign).\n",
    "\n",
    "Jaynes (1963) has pointed out that this generalization of the entropy, including a *Leqesgue measure* $m_i$, is necessary when we consider the limit of continuous parameters."
   ]
  },
  {
   "cell_type": "markdown",
   "metadata": {},
   "source": [
    "$$\n",
    "S[p]= −\\int p(x) \\log \\left( \\frac{p(x)}{m(x)} \\right).\n",
    "$$"
   ]
  },
  {
   "cell_type": "markdown",
   "metadata": {},
   "source": [
    "* In particular, $m(x)$ ensures that the entropy expression is invariant under a change of variables $x \\to y=f(x)$.\n",
    "\n",
    "* Typically, the transformation-group (invariance) arguments are appropriate for assigning $m(x) = \\mathrm{constant}$.\n",
    "\n",
    "* However, there are situations where other assignments for $m$ represent the most ignorance. For example, in counting experiments one might assign $m(N) = M^N / N!$ for the number of observed events $N$ and a very large number of intervals $M$.\n",
    "\n",
    "## Derivation of common pdfs using MaxEnt\n",
    "\n",
    "The principle of maximum entropy (MaxEnt) allows incorporation of further information, e.g. constraints on the mean, variance, etc, into the assignment of probability distributions.\n",
    "\n",
    "In summary, the MaxEnt approach aims to maximize the Shannon-Jaynes entropy and generates smooth functions.\n",
    "\n",
    "### Mean and the Exponential pdf\n",
    "\n",
    "Suppose that we have a pdf $p(x|I)$ that is normalized over some interval $[ x_\\mathrm{min}, x_\\mathrm{max}]$. Assume that we have information about its mean value, i.e.,"
   ]
  },
  {
   "cell_type": "markdown",
   "metadata": {},
   "source": [
    "$$\n",
    "\\langle x \\rangle = \\int x p(x|I) dx = \\mu.\n",
    "$$"
   ]
  },
  {
   "cell_type": "markdown",
   "metadata": {},
   "source": [
    "Based only on this information, what functional form should we assign for the pdf that we will now denote $p(x|\\mu)$? \n",
    "\n",
    "Let us use the principle of MaxEnt and maximize the entropy under the normalization and mean constraints. We will use Lagrange multipliers, and we will perform the optimization as a limiting case of a discrete problem; explicitly, we will maximize"
   ]
  },
  {
   "cell_type": "markdown",
   "metadata": {},
   "source": [
    "$$\n",
    "Q = -\\sum_i p_i \\log \\left( \\frac{p_i}{m_i} \\right) + \\lambda_0 \\left( 1 - \\sum_i p_i \\right) + \\lambda_1 \\left( \\mu - \\sum_i x_i p_i \\right).\n",
    "$$"
   ]
  },
  {
   "cell_type": "markdown",
   "metadata": {},
   "source": [
    "Setting $\\partial Q / \\partial p_j = 0$ we obtain"
   ]
  },
  {
   "cell_type": "markdown",
   "metadata": {},
   "source": [
    "$$\n",
    "p_j = m_j \\exp \\left[ -(1+\\lambda_0) \\right] \\exp \\left[ -\\lambda_1 x_j \\right].\n",
    "$$"
   ]
  },
  {
   "cell_type": "markdown",
   "metadata": {},
   "source": [
    "With a uniform measure $m_j = \\mathrm{constant}$ we find (in the continuous limit) that"
   ]
  },
  {
   "cell_type": "markdown",
   "metadata": {},
   "source": [
    "$$\n",
    "p(x|\\mu) = \\mathcal{N} \\exp \\left[ -\\lambda_1 x \\right].\n",
    "$$"
   ]
  },
  {
   "cell_type": "markdown",
   "metadata": {},
   "source": [
    "The normalization constant (related to $\\lambda_0$) and the remaining Lagrange multiplier, $\\lambda_1$, can easily determined by fulfilling the two constraints. \n",
    "\n",
    "Assuming, e.g., that the normalization interval is $x \\in [0, \\infty[$ we obtain"
   ]
  },
  {
   "cell_type": "markdown",
   "metadata": {},
   "source": [
    "$$\n",
    "\\int_0^\\infty p(x|\\mu) dx = 1 = \\left[ -\\frac{\\mathcal{N}}{\\lambda_1} e^{-\\lambda_1 x} \\right]_0^\\infty = \\frac{\\mathcal{N}}{\\lambda_1} \\quad \\Rightarrow \\quad \\mathcal{N} = \\lambda_1.\n",
    "$$"
   ]
  },
  {
   "cell_type": "markdown",
   "metadata": {},
   "source": [
    "The constraint for the mean then gives"
   ]
  },
  {
   "cell_type": "markdown",
   "metadata": {},
   "source": [
    "$$\n",
    "\\mu = \\lambda_1 \\int_0^\\infty x  e^{-\\lambda_1 x} dx = \\lambda_1 \\frac{1!}{\\lambda_1^2}\n",
    "= \\frac{1}{\\lambda_1}\n",
    "\\quad \\Rightarrow \\quad \\lambda_1 = \\frac{1}{\\mu}.\n",
    "$$"
   ]
  },
  {
   "cell_type": "markdown",
   "metadata": {},
   "source": [
    "So that the properly normalized pdf from MaxEnt principles becomes the exponential distribution"
   ]
  },
  {
   "cell_type": "markdown",
   "metadata": {},
   "source": [
    "$$\n",
    "p(x|\\mu) = \\frac{1}{\\mu} \\exp \\left[ -\\frac{x}{\\mu} \\right].\n",
    "$$"
   ]
  },
  {
   "cell_type": "markdown",
   "metadata": {},
   "source": [
    "### Variance and the Gaussian pdf\n",
    "\n",
    "Suppose that we have information not only on the mean $\\mu$ but also on the variance"
   ]
  },
  {
   "cell_type": "markdown",
   "metadata": {},
   "source": [
    "$$\n",
    "\\left\\langle (x-\\mu)^2 \\right\\rangle = \\int (x-\\mu)^2 p(x|I) dx = \\sigma^2.\n",
    "$$"
   ]
  },
  {
   "cell_type": "markdown",
   "metadata": {},
   "source": [
    "The principle of MaxEnt will then result in the continuum assignment"
   ]
  },
  {
   "cell_type": "markdown",
   "metadata": {},
   "source": [
    "$$\n",
    "p(x|\\mu,\\sigma) \\propto \\exp \\left[ - \\lambda_1 ( x - \\mu )^2 \\right].\n",
    "$$"
   ]
  },
  {
   "cell_type": "markdown",
   "metadata": {},
   "source": [
    "Assuming that the limits of integration are $\\pm \\infty$ this results in the standard Gaussian pdf"
   ]
  },
  {
   "cell_type": "markdown",
   "metadata": {},
   "source": [
    "$$\n",
    "p(x|\\mu,\\sigma) = \\frac{1}{\\sigma \\sqrt{2\\pi}} \\exp \\left[ - \\frac{( x - \\mu )^2}{2\\sigma^2} \\right].\n",
    "$$"
   ]
  },
  {
   "cell_type": "markdown",
   "metadata": {},
   "source": [
    "This indicates that the normal distribution is the most honest representation of our state of knowledge when we only have information about the mean and the variance.\n",
    "\n",
    "**Notice.**\n",
    "\n",
    "These arguments extend easily to the case of several parameters. For example, considering $\\{x_k\\}$ as the data $\\{ D_k\\}$ with error bars $\\{sigma_k\\}$ and $\\{\\mu_k\\}$ as the model predictions, this allows us to identify the least-squares likelihood as the pdf which best represents our state of knowledge given only the value of the expected squared-deviation between our predictions and the data"
   ]
  },
  {
   "cell_type": "markdown",
   "metadata": {},
   "source": [
    "$$\n",
    "p\\left( \\{x_k\\} | \\{\\mu_k, \\sigma_k\\} \\right) = \\prod_{k=1}^N \\frac{1}{\\sigma_k \\sqrt{2\\pi}} \\exp \\left[ - \\frac{( x_k - \\mu_k )^2}{2\\sigma_k^2} \\right].\n",
    "$$"
   ]
  },
  {
   "cell_type": "markdown",
   "metadata": {},
   "source": [
    "If we had convincing information about the covariance $\\left\\langle \\left( x_i - \\mu_i \\right) \\left( x_j - \\mu_j \\right) \\right\\rangle$, where $i \\neq j$, then MaxEnt would assign a correlated, multivariate Gaussian pdf for $p\\left( \\{ x_k \\} | I \\right)$.\n",
    "\n",
    "\n",
    "\n",
    "### Counting statistics and the Poisson distribution\n",
    "\n",
    "The derivation, and underlying arguments, for the binomial distribution and the Poisson statistic based on MaxEnt is found in Sivia, Secs 5.3.3 and 5.3.4."
   ]
  }
 ],
 "metadata": {
  "kernelspec": {
   "display_name": "Python 3 (ipykernel)",
   "language": "python",
   "name": "python3"
  },
  "language_info": {
   "codemirror_mode": {
    "name": "ipython",
    "version": 3
   },
   "file_extension": ".py",
   "mimetype": "text/x-python",
   "name": "python",
   "nbconvert_exporter": "python",
   "pygments_lexer": "ipython3",
   "version": "3.9.6"
  }
 },
 "nbformat": 4,
 "nbformat_minor": 2
}
