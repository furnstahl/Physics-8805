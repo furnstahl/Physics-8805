{
 "cells": [
  {
   "cell_type": "markdown",
   "metadata": {},
   "source": [
    "# Standard medical example by applying Bayesian rules of probability\n",
    "\n",
    "Goal: Use the Bayesian rules to solve a familiar problem.\n",
    "$\\newcommand{\\pr}{\\textrm{p}} $"
   ]
  },
  {
   "cell_type": "markdown",
   "metadata": {},
   "source": [
    "## Bayesian rules of probability as principles of logic \n",
    "\n",
    "Notation: $p(x \\mid I)$ is the probability (or pdf) of $x$ being true\n",
    "given information $I$\n",
    "\n",
    "1. **Sum rule:** If set $\\{x_i\\}$ is exhaustive and exclusive, \n",
    "\n",
    "    $$ \\sum_i p(x_i  \\mid  I) = 1   \\quad \\longrightarrow \\quad       \\color{red}{\\int\\!dx\\, p(x \\mid I) = 1} \n",
    "    $$ \n",
    "\n",
    "    * cf. complete and orthonormal \n",
    "    * implies *marginalization* (cf. inserting complete set of states or integrating out variables - but be careful!)\n",
    "\n",
    "    $$\n",
    "     p(x \\mid  I) = \\sum_j p(x,y_j \\mid I) \n",
    "       \\quad \\longrightarrow \\quad\n",
    "      \\color{red}{p(x \\mid I) = \\int\\!dy\\, p(x,y \\mid I)} \n",
    "    $$\n",
    "   \n",
    "  \n",
    "2. **Product rule:** expanding a joint probability of $x$ and $y$         \n",
    "\n",
    "    $$\n",
    "         \\color{red}{ p(x,y \\mid I) = p(x \\mid y,I)\\,p(y \\mid I)\n",
    "              = p(y \\mid x,I)\\,p(x \\mid I)}\n",
    "    $$\n",
    "\n",
    "    * If $x$ and $y$ are <em>mutually independent</em>:  $p(x \\mid y,I)\n",
    "      = p(x \\mid I)$, then        \n",
    "    \n",
    "    $$\n",
    "       p(x,y \\mid I) \\longrightarrow p(x \\mid I)\\,p(y \\mid I)\n",
    "    $$\n",
    "    \n",
    "    * Rearranging the second equality yields <em> Bayes' Rule (or Theorem)</em>\n",
    "    \n",
    "    $$\n",
    "      \\color{blue}{p(x  \\mid y,I) = \\frac{p(y \\mid x,I)\\, \n",
    "       p(x \\mid I)}{p(y \\mid I)}}\n",
    "    $$\n",
    "\n",
    "See Cox for the proof."
   ]
  },
  {
   "cell_type": "markdown",
   "metadata": {},
   "source": [
    "## Answer the questions in *italics*. Check answers with your neighbors. Ask for help if you get stuck or are unsure."
   ]
  },
  {
   "cell_type": "markdown",
   "metadata": {},
   "source": [
    "Suppose there is an unknown disease (call it UD) and there is a test for it.\n",
    "\n",
    "a. The false positive rate is 2.3%. (\"False positive\" means the test says you have UD, but you don't.) <br>\n",
    "b. The false negative rate is 1.4%. (\"False negative\" means you have UD, but the test says you don't.)\n",
    "\n",
    "Assume that 1 in 10,000 people have the disease. You are given the test and get a positive result.  Your ultimate goal is to find the probability that you actually have the disease.  We'll do it using the Bayesian rules.\n",
    "\n",
    "We'll use the notation:\n",
    "\n",
    "* $H$ = \"you have UD\"\n",
    "* $\\overline H$ = \"you do not have UD\"  \n",
    "* $D$ = \"you test positive for UD\"\n",
    "* $\\overline D$ = \"you test negative for UD\"  "
   ]
  },
  {
   "cell_type": "markdown",
   "metadata": {},
   "source": [
    "1. *Before doing a calculation (or thinking too hard :), does your intuition tell you the probability you have the disease is high or low?*\n",
    "<br>\n",
    "<br>\n",
    "2. *In the $\\pr(\\cdot | \\cdot)$ notation, what is your ultimate goal?*\n",
    "<br>\n",
    "<br>\n",
    "<br>\n",
    "<br>\n",
    "3. *Express the false positive rate in $\\pr(\\cdot | \\cdot)$ notation.* \\[Ask yourself first: what is to the left of the bar?\\]\n",
    "<br>\n",
    "<br>\n",
    "<br>\n",
    "<br>\n",
    "4. *Express the false negative rate in $\\pr(\\cdot | \\cdot)$ notation. By applying the sum rule, what do you also know? (If you get stuck answering the question, do the next part first.)* \n",
    "<br>\n",
    "<br>\n",
    "<br>\n",
    "<br>\n",
    "5. *Should $\\pr(D|H) + \\pr(D|\\overline H) = 1$?\n",
    "    Should $\\pr(D|H) + \\pr(\\overline D |H) = 1$?\n",
    "    (Hint: does the sum rule apply on the left or right of the $|$?)*\n",
    "<br>\n",
    "<br>\n",
    "<br>\n",
    "<br>\n",
    "6. *Apply Bayes' theorem to your result for your ultimate goal (don't put in numbers yet).\n",
    "   Why is this a useful thing to do here?*\n",
    "<br>\n",
    "<br>\n",
    "<br>\n",
    "<br>\n",
    "7. Let's find the other results we need.  *What is $\\pr(H)$?\n",
    "  What is $\\pr(\\overline H)$?*\n",
    "<br>\n",
    "<br>\n",
    "<br>\n",
    "<br>\n",
    "8. Finally, we need $\\pr(D)$.  *Apply marginalization first, and then\n",
    "  the product rule twice to get an expression for $\\pr(D)$ in terms of quantities\n",
    "  we know.*\n",
    "<br>\n",
    "<br>\n",
    "<br>\n",
    "<br>\n",
    "9. *Now plug in numbers into Bayes' theorem and calculate the result.  What do you get?*\n",
    "<br>\n",
    "<br>\n",
    "<br>\n",
    "<br>"
   ]
  }
 ],
 "metadata": {
  "kernelspec": {
   "display_name": "Python 3 (ipykernel)",
   "language": "python",
   "name": "python3"
  },
  "language_info": {
   "codemirror_mode": {
    "name": "ipython",
    "version": 3
   },
   "file_extension": ".py",
   "mimetype": "text/x-python",
   "name": "python",
   "nbconvert_exporter": "python",
   "pygments_lexer": "ipython3",
   "version": "3.9.6"
  }
 },
 "nbformat": 4,
 "nbformat_minor": 2
}
