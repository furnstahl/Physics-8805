{
 "cells": [
  {
   "cell_type": "markdown",
   "metadata": {},
   "source": [
    "# Building intuition about correlations (and a bit of Python linear algebra)"
   ]
  },
  {
   "cell_type": "markdown",
   "metadata": {},
   "source": [
    "Here we will first try out some basics about linear algebra using Python. **NOTE:** Do not use the numpy.matrix class, which is deprecated. We use the `@` operator for matrix multiplication (or matrix-vector) rather than the numpy `dot` function.\n",
    "\n",
    "Then we'll do some visualization to develop our intuition about what correlation implies for a multi-variate normal distribution (in this case bivariate):\n",
    "\n",
    "$$\n",
    "  \\boldsymbol{x} | \\boldsymbol{\\mu},\\boldsymbol{\\Sigma} \\sim \\mathcal{N}(\\boldsymbol{\\mu},\\boldsymbol{\\Sigma})\n",
    "  \\quad\\Longrightarrow\\quad p(\\boldsymbol{x}) = \\frac{1}{(2\\pi)^N |\\boldsymbol{\\Sigma}|}\n",
    "  e^{-(\\boldsymbol{x} - \\boldsymbol{\\mu})^\\intercal \\boldsymbol{\\Sigma}^{-1}(\\boldsymbol{x} - \\boldsymbol{\\mu})}\n",
    "$$\n",
    "\n",
    "We parameterize the covariance matrix for $N=2$ parameters as\n",
    "\n",
    "$$\n",
    "  \\boldsymbol{\\Sigma} = \\pmatrix{\\sigma_1^2 & \\rho\\sigma_1\\sigma_2 \\\\\n",
    "                                 \\rho\\sigma_1\\sigma_2 & \\sigma_2^2}\n",
    "$$"
   ]
  },
  {
   "cell_type": "code",
   "execution_count": null,
   "metadata": {},
   "outputs": [],
   "source": [
    "%matplotlib inline  \n",
    "\n",
    "import numpy as np\n",
    "from numpy.linalg import inv   # inverse of a matrix\n",
    "\n",
    "import matplotlib.pyplot as plt\n",
    "import seaborn as sns; sns.set() \n"
   ]
  },
  {
   "cell_type": "markdown",
   "metadata": {},
   "source": [
    "## Demo of linear algebra"
   ]
  },
  {
   "cell_type": "markdown",
   "metadata": {},
   "source": [
    "We use `np.array` to create matrices and vectors, using []'s as delimiters with commas between the entries,\n",
    "and nesting them to make matrices. Try creating your own vectors and matrices to test your understanding.\n",
    "\n",
    "The `reshape` method gives a new shape to a numpy array without changing its data. Let's check out its use."
   ]
  },
  {
   "cell_type": "code",
   "execution_count": null,
   "metadata": {},
   "outputs": [],
   "source": [
    "# First a vector with 6 elements. Note the shape.\n",
    "A_vec = np.arange(6)\n",
    "print(A_vec, '   shape = ', A_vec.shape)"
   ]
  },
  {
   "cell_type": "code",
   "execution_count": null,
   "metadata": {},
   "outputs": [],
   "source": [
    "# reshape A_vec into a 2x3 matrix\n",
    "A_mat1 = A_vec.reshape(2,3)\n",
    "print(A_mat1, '   shape = ', A_mat1.shape)"
   ]
  },
  {
   "cell_type": "code",
   "execution_count": null,
   "metadata": {},
   "outputs": [],
   "source": [
    "# Your turn: reshape A_vec into a 3x2 matrix and print the result\n",
    "A_mat2 = A_vec.reshape()  # fill in an appropriate argument\n",
    "print(A_mat2, '   shape = ', A_mat2.shape)"
   ]
  },
  {
   "cell_type": "code",
   "execution_count": null,
   "metadata": {},
   "outputs": [],
   "source": [
    "Sigma = np.array([[1,  0],\n",
    "                  [0, -1]])\n",
    "\n",
    "# Here we note the distinction between a numpy 1d list as a vector and\n",
    "#  a vector as a matrix with one column.\n",
    "x_vec = np.array([2, 3])\n",
    "print('shape before: ', x_vec.shape)\n",
    "\n",
    "print('vector-matrix-vector multiplication: ', x_vec @ Sigma @ x_vec)\n",
    "\n",
    "x_vec = x_vec.reshape(-1,1)  # convert to matrix column vector\n",
    "print('\\nshape after: ', x_vec.shape)\n",
    "\n",
    "print('Printed versions of column and row vectors:')\n",
    "print(x_vec)   # column vector as matrix\n",
    "print('\\n')\n",
    "print(x_vec.T) # row vector as matrix  (.T takes the transpose)\n"
   ]
  },
  {
   "cell_type": "markdown",
   "metadata": {},
   "source": [
    "Alternative: define as a $N\\times 1$ matrix (row vector) or $1 \\times N$ matrix (column vector) directly."
   ]
  },
  {
   "cell_type": "code",
   "execution_count": null,
   "metadata": {},
   "outputs": [],
   "source": [
    "x_vec = np.array([[2, 3]])  # a row vector\n",
    "print('shape of row vector (rows, cols): ', x_vec.shape)\n",
    "x_vec = np.array([[2],      \n",
    "                  [3]])     # a column vector\n",
    "print('shape of column vector (rows, cols): ', x_vec.shape)"
   ]
  },
  {
   "cell_type": "markdown",
   "metadata": {},
   "source": [
    "**Predict the result!**\n",
    "\n",
    "For each of the next four cells, predict what the answer will be before evaluating the cell. If you get an error, discuss with a neighbor what the problem is."
   ]
  },
  {
   "cell_type": "code",
   "execution_count": null,
   "metadata": {},
   "outputs": [],
   "source": [
    "print(x_vec.T @ x_vec)"
   ]
  },
  {
   "cell_type": "code",
   "execution_count": null,
   "metadata": {},
   "outputs": [],
   "source": [
    "print(x_vec.T @ Sigma @ x_vec)"
   ]
  },
  {
   "cell_type": "code",
   "execution_count": null,
   "metadata": {},
   "outputs": [],
   "source": [
    "print(x_vec @ x_vec)"
   ]
  },
  {
   "cell_type": "code",
   "execution_count": null,
   "metadata": {},
   "outputs": [],
   "source": [
    "print(x_vec @ x_vec.T)\n"
   ]
  },
  {
   "cell_type": "markdown",
   "metadata": {},
   "source": [
    "## Predict the contour!"
   ]
  },
  {
   "cell_type": "markdown",
   "metadata": {},
   "source": [
    "First check out the function definitions (compare `covar` to the matrix at the top of this notebook).\n",
    "Then for each set of `sigma_1`, `sigma_2`, and `rho`, predict what the contour plot will look like before executing the cell."
   ]
  },
  {
   "cell_type": "code",
   "execution_count": null,
   "metadata": {},
   "outputs": [],
   "source": [
    "def covar(sigma_1, sigma_2, rho):\n",
    "    \"\"\"\n",
    "    Return a symmetric 2x2 covariance matrix.\n",
    "    \"\"\"\n",
    "    mat = np.array( [[sigma_1**2,          rho*sigma_1*sigma_2] , \n",
    "                     [rho*sigma_1*sigma_2, sigma_2**2         ]])   \n",
    "    return mat\n",
    "\n",
    "def log_posterior(x_vec, Sigma):\n",
    "    \"\"\"\n",
    "    Logarithm of bivariate gaussian.\n",
    "    \"\"\"\n",
    "    return -x_vec.T @ inv(Sigma) @ x_vec"
   ]
  },
  {
   "cell_type": "code",
   "execution_count": null,
   "metadata": {},
   "outputs": [],
   "source": [
    "def plot_contour(sigma_1, sigma_2, rho):\n",
    "    \"\"\"\n",
    "    Make a plot\n",
    "    \"\"\"\n",
    "    Sigma = covar(sigma_1, sigma_2, rho)\n",
    "    \n",
    "    x1_max = 3.; x2_max = 3.\n",
    "    x1_pts = np.arange(-x1_max, x1_max, .02)  # You may want to adjust the \n",
    "    x2_pts = np.arange(-x2_max, x2_max, .02)  #  density of points used.\n",
    "    x1_grid, x2_grid = np.meshgrid(x1_pts, x2_pts)  \n",
    "    \n",
    "    Z_grid = np.array([[log_posterior(np.array([x1, x2]), Sigma) \n",
    "                        for x1 in x1_pts] for x2 in x2_pts])\n",
    "    Z_grid = np.exp(Z_grid - np.max(Z_grid))  # normalize the peak to be 1\n",
    "\n",
    "    \n",
    "    fig, axes = plt.subplots(1, 2, figsize=(12,5))\n",
    "\n",
    "    contour_levels = [0.2, 0.4, 0.6, 0.8, 1.0]\n",
    "    axes[0].contour(x1_grid, x2_grid, Z_grid, levels=contour_levels)\n",
    "    axes[0].set_xlim(-x1_max, x1_max)\n",
    "    axes[0].set_ylim(-x2_max, x2_max)\n",
    "    axes[0].set_xlabel(r'$x_1$')\n",
    "    axes[0].set_ylabel(r'$x_2$')\n",
    "    axes[0].set_title('Contour plot with levels 0.2, 0.4, 0.6, 0.8, 1.0')\n",
    "        \n",
    "    axes[1].contourf(x1_grid, x2_grid, Z_grid, levels=5, cmap='jet')\n",
    "    axes[1].set_xlim(-x1_max, x1_max)\n",
    "    axes[1].set_ylim(-x2_max, x2_max)\n",
    "    axes[1].set_xlabel(r'$x_1$')\n",
    "    axes[1].set_ylabel(r'$x_2$')\n",
    "    axes[1].set_title('Color contour plot with contourf')\n"
   ]
  },
  {
   "cell_type": "code",
   "execution_count": null,
   "metadata": {},
   "outputs": [],
   "source": [
    "sigma_1 = 1\n",
    "sigma_2 = 1\n",
    "rho = 0\n",
    "\n",
    "plot_contour(sigma_1, sigma_2, rho)"
   ]
  },
  {
   "cell_type": "code",
   "execution_count": null,
   "metadata": {},
   "outputs": [],
   "source": [
    "sigma_1 = 1\n",
    "sigma_2 = 2\n",
    "rho = 0\n",
    "\n",
    "plot_contour(sigma_1, sigma_2, rho)"
   ]
  },
  {
   "cell_type": "code",
   "execution_count": null,
   "metadata": {},
   "outputs": [],
   "source": [
    "sigma_1 = 2\n",
    "sigma_2 = 1\n",
    "rho = .5\n",
    "\n",
    "plot_contour(sigma_1, sigma_2, rho)"
   ]
  },
  {
   "cell_type": "code",
   "execution_count": null,
   "metadata": {},
   "outputs": [],
   "source": [
    "sigma_1 = 1\n",
    "sigma_2 = 1\n",
    "rho = .9\n",
    "\n",
    "plot_contour(sigma_1, sigma_2, rho)"
   ]
  },
  {
   "cell_type": "code",
   "execution_count": null,
   "metadata": {
    "scrolled": true
   },
   "outputs": [],
   "source": [
    "sigma_1 = 1\n",
    "sigma_2 = 1\n",
    "rho = .99\n",
    "\n",
    "plot_contour(sigma_1, sigma_2, rho)"
   ]
  },
  {
   "cell_type": "code",
   "execution_count": null,
   "metadata": {
    "scrolled": true
   },
   "outputs": [],
   "source": [
    "sigma_1 = 1\n",
    "sigma_2 = 1\n",
    "rho = -.999\n",
    "\n",
    "plot_contour(sigma_1, sigma_2, rho)"
   ]
  }
 ],
 "metadata": {
  "kernelspec": {
   "display_name": "Python [conda env:8805-env]",
   "language": "python",
   "name": "conda-env-8805-env-py"
  },
  "language_info": {
   "codemirror_mode": {
    "name": "ipython",
    "version": 3
   },
   "file_extension": ".py",
   "mimetype": "text/x-python",
   "name": "python",
   "nbconvert_exporter": "python",
   "pygments_lexer": "ipython3",
   "version": "3.7.10"
  }
 },
 "nbformat": 4,
 "nbformat_minor": 2
}
