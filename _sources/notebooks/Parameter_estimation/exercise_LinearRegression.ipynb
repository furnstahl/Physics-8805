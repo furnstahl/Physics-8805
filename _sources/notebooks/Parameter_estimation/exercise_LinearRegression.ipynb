{
 "cells": [
  {
   "cell_type": "markdown",
   "metadata": {},
   "source": [
    "# Linear Regression exercise\n",
    "\n",
    "Last revised: 30-Aug-2020 by Christian Forssén [christian.forssen@chalmers.se]"
   ]
  },
  {
   "cell_type": "markdown",
   "metadata": {},
   "source": [
    "## Import modules"
   ]
  },
  {
   "cell_type": "code",
   "execution_count": null,
   "metadata": {},
   "outputs": [],
   "source": [
    "# Common imports\n",
    "import numpy as np\n",
    "import os\n",
    "\n",
    "# To plot pretty figures\n",
    "%matplotlib inline\n",
    "import matplotlib as mpl\n",
    "import matplotlib.pyplot as plt\n",
    "\n",
    "import seaborn as sns\n",
    "sns.set('talk')"
   ]
  },
  {
   "cell_type": "markdown",
   "metadata": {},
   "source": [
    "## Generate data"
   ]
  },
  {
   "cell_type": "code",
   "execution_count": null,
   "metadata": {},
   "outputs": [],
   "source": [
    "# Let us generate noisy data with a linear feature\n",
    "\n",
    "# to make this notebook's output stable across runs\n",
    "np.random.seed(42)\n",
    "\n",
    "# X are picked uniform random [0,2]\n",
    "X = 2 * np.random.rand(100, 1)\n",
    "# Linear relation to the predicted value, but with Gaussian noise (mean=0, variance=1)\n",
    "y = 2 + 4 * X + np.random.randn(100, 1)"
   ]
  },
  {
   "cell_type": "code",
   "execution_count": null,
   "metadata": {},
   "outputs": [],
   "source": [
    "fig, ax = plt.subplots(figsize=(10,8))\n",
    "ax.plot(X, y, \"b.\")\n",
    "ax.set_xlabel(r'$x_1$')\n",
    "ax.set_ylabel(r'$y$');"
   ]
  },
  {
   "cell_type": "markdown",
   "metadata": {},
   "source": [
    "## Linear regression"
   ]
  },
  {
   "cell_type": "markdown",
   "metadata": {},
   "source": [
    "### Linear regression using scikit-learn"
   ]
  },
  {
   "cell_type": "code",
   "execution_count": null,
   "metadata": {},
   "outputs": [],
   "source": [
    "# Fit the linear regression model with sklearn\n",
    "from sklearn.linear_model import LinearRegression\n",
    "lin_reg = LinearRegression()\n",
    "lin_reg.fit(X, y)\n",
    "\n",
    "# Print the linear regression parameters (with a specified precision)\n",
    "with np.printoptions(precision=4):\n",
    "    print(lin_reg.intercept_, lin_reg.coef_)"
   ]
  },
  {
   "cell_type": "code",
   "execution_count": null,
   "metadata": {},
   "outputs": [],
   "source": [
    "X_predict = np.array([[0], [2]])\n",
    "y_predict = lin_reg.predict(X_predict)"
   ]
  },
  {
   "cell_type": "code",
   "execution_count": null,
   "metadata": {},
   "outputs": [],
   "source": [
    "fig, ax = plt.subplots(figsize=(10,8))\n",
    "ax.plot(X_predict, y_predict, \"r-\",label=\"Prediction\")\n",
    "ax.plot(X, y, \"b.\",label=\"Data\")\n",
    "ax.set_xlabel('X')\n",
    "ax.set_ylabel('y')\n",
    "ax.legend(loc='best');"
   ]
  },
  {
   "cell_type": "markdown",
   "metadata": {},
   "source": [
    "### Linear regression using the Normal Equation"
   ]
  },
  {
   "cell_type": "markdown",
   "metadata": {},
   "source": [
    "Let us create the design matrix `X_d` for the linear model.\n",
    "It is a linear model with two features corresponding to the two terms in a polynom of order 1:\n",
    "- an X^0 (bias)\n",
    "- an X^1 (linear feature) "
   ]
  },
  {
   "cell_type": "code",
   "execution_count": null,
   "metadata": {},
   "outputs": [],
   "source": [
    "m = len(X) # number of instances\n",
    "# The design matrix will have shape (m x 2)\n",
    "# It is created by adding X^0 = 1 to each instance\n",
    "X_d = np.c_[np.ones((m, 1)), X]  "
   ]
  },
  {
   "cell_type": "code",
   "execution_count": null,
   "metadata": {},
   "outputs": [],
   "source": [
    "X_d.shape"
   ]
  },
  {
   "cell_type": "code",
   "execution_count": null,
   "metadata": {},
   "outputs": [],
   "source": [
    "### EXERCISE\n",
    "#\n",
    "# (a) Use the normal equation to compute the fit parameters\n",
    "# (b) Print the best fit parameters\n",
    "# (c) Plot the fitted linear model together with the data\n",
    "#\n",
    "#\n",
    "#"
   ]
  },
  {
   "cell_type": "markdown",
   "metadata": {},
   "source": [
    "### COMMENT on the base for the sklearn LinearRegression method"
   ]
  },
  {
   "cell_type": "markdown",
   "metadata": {},
   "source": [
    "The `LinearRegression` class is based on the `scipy.linalg.lstsq()` function (the name stands for \"least squares\"), which you could call directly:"
   ]
  },
  {
   "cell_type": "code",
   "execution_count": null,
   "metadata": {},
   "outputs": [],
   "source": [
    "theta_best_svd, residuals, rank, s = np.linalg.lstsq(X_d, y, rcond=1e-6)\n",
    "theta_best_svd"
   ]
  },
  {
   "cell_type": "markdown",
   "metadata": {},
   "source": [
    "This function computes $\\mathbf{X}^+\\mathbf{y}$, where $\\mathbf{X}^{+}$ is the _pseudoinverse_ of $\\mathbf{X}$ (specifically the Moore-Penrose inverse). You can use `np.linalg.pinv()` to compute the pseudoinverse directly:"
   ]
  },
  {
   "cell_type": "code",
   "execution_count": null,
   "metadata": {
    "scrolled": true
   },
   "outputs": [],
   "source": [
    "np.linalg.pinv(X_d).dot(y)"
   ]
  },
  {
   "cell_type": "markdown",
   "metadata": {},
   "source": [
    "### Linear regression using batch gradient descent"
   ]
  },
  {
   "cell_type": "code",
   "execution_count": null,
   "metadata": {},
   "outputs": [],
   "source": [
    "# learning hyperparameter\n",
    "eta = 0.1\n",
    "# number of iterations\n",
    "n_iterations = 1000\n",
    "m = len(X)\n",
    "# initial guess for parameter vector\n",
    "theta = np.random.randn(2,1)"
   ]
  },
  {
   "cell_type": "code",
   "execution_count": null,
   "metadata": {},
   "outputs": [],
   "source": [
    "for iteration in range(n_iterations):\n",
    "    gradients = 2/m * X_d.T.dot(X_d.dot(theta) - y)\n",
    "    theta = theta - eta * gradients"
   ]
  },
  {
   "cell_type": "code",
   "execution_count": null,
   "metadata": {},
   "outputs": [],
   "source": [
    "with np.printoptions(precision=4):\n",
    "    print(theta)"
   ]
  },
  {
   "cell_type": "code",
   "execution_count": null,
   "metadata": {},
   "outputs": [],
   "source": [
    "X_predict = np.array([[0], [2]])\n",
    "X_predict_d = np.c_[np.ones((2, 1)), X_predict]  \n",
    "X_predict_d.dot(theta)"
   ]
  },
  {
   "cell_type": "code",
   "execution_count": null,
   "metadata": {},
   "outputs": [],
   "source": [
    "# EXERCISE\n",
    "#\n",
    "#\n",
    "# Explore the learning rates with different learning hyperparameter \n",
    "# eta = 0.02, 0.1, 0.5\n",
    "#\n",
    "# Plot the different learning rates using the `plot_gradient_descent` function defined above."
   ]
  },
  {
   "cell_type": "code",
   "execution_count": null,
   "metadata": {},
   "outputs": [],
   "source": [
    "def plot_gradient_descent(theta, X, y, eta=0.1, theta_path=None,ax=None,n_iterations=1000):\n",
    "    '''Plot the iterations of batch gradient descent.'''\n",
    "    m = len(X)\n",
    "    if not ax:\n",
    "        fig,ax = plt.subplots(1,1)\n",
    "    ax.plot(X, y, \"b.\")\n",
    "    \n",
    "    _X_d = np.c_[np.ones((m, 1)), X]  \n",
    "    _X_predict = np.array([np.floor(min(X)),np.ceil(max(X))])\n",
    "    _X_predict_d = np.c_[np.ones((2, 1)), X_predict]\n",
    "    \n",
    "    for iteration in range(n_iterations):\n",
    "        if iteration < 10:\n",
    "            _y_predict = _X_predict_d.dot(theta)\n",
    "            style = \"b-\" if iteration > 0 else \"r--\"\n",
    "            ax.plot(_X_predict, _y_predict, style)\n",
    "        gradients = 2/m * _X_d.T.dot(_X_d.dot(theta) - y)\n",
    "        theta = theta - eta * gradients\n",
    "        if theta_path is not None:\n",
    "            theta_path.append(theta)\n",
    "    ax.set_xlabel(\"$x_1$\")\n",
    "    ax.set_title(r\"$\\eta = {}$ (10 iter.)\".format(eta))"
   ]
  },
  {
   "cell_type": "markdown",
   "metadata": {},
   "source": [
    "### Advanced topic: Linear regression using Stochastic Gradient Descent"
   ]
  },
  {
   "cell_type": "markdown",
   "metadata": {},
   "source": [
    "Let us implement an algorithm that performs *stochastic gradient descent*.\n",
    "\n",
    "By convention we iterate by rounds of m (m = # of instances) iterations; each round is called an **epoch**. We will use much fewer epochs that we did for the batch gradient descent approach, thereby losing accuracy but gaining speed.\n",
    "\n",
    "We will use a learning schedule in which we first take large steps, and then shorter and shorter ones. This approach is similar in spirit to the optimization algorithm *simulated annealing*."
   ]
  },
  {
   "cell_type": "code",
   "execution_count": null,
   "metadata": {},
   "outputs": [],
   "source": [
    "m = len(X)\n",
    "np.random.seed(42)\n",
    "\n",
    "n_epochs = 50\n",
    "t0, t1 = 5, 50  # learning schedule hyperparameters\n",
    "\n",
    "# We will store the iterations in a list to monitor the convergence\n",
    "theta_path_sgd = []\n",
    "\n",
    "def learning_schedule(t):\n",
    "    return t0 / (t + t1)\n",
    "\n",
    "theta = np.random.randn(2,1)  # random initialization\n",
    "\n",
    "fig,ax = plt.subplots(1,1)\n",
    "\n",
    "for epoch in range(n_epochs):\n",
    "    for i in range(m):\n",
    "        if epoch == 0 and i < 10:                    \n",
    "            y_predict = X_predict_d.dot(theta) \n",
    "            style = \"b-\" if i > 0 else \"r--\" \n",
    "            ax.plot(X_predict, y_predict, style) \n",
    "        # pick a random instance\n",
    "        random_index = np.random.randint(m)\n",
    "        xi = X_d[random_index:random_index+1]\n",
    "        yi = y[random_index:random_index+1]\n",
    "        gradients = 2 * xi.T.dot(xi.dot(theta) - yi)\n",
    "        eta = learning_schedule(epoch * m + i)\n",
    "        theta = theta - eta * gradients\n",
    "        theta_path_sgd.append(theta)    \n",
    "\n",
    "ax.plot(X, y, \"b.\")           \n",
    "ax.set_xlabel(\"$x_1$\")           \n",
    "ax.set_ylabel(\"$y$\")\n",
    "ax.set_title(f\"SGD: $\\eta = {eta:.3f}$ (10 iter.)\");"
   ]
  },
  {
   "cell_type": "code",
   "execution_count": null,
   "metadata": {},
   "outputs": [],
   "source": [
    "theta"
   ]
  },
  {
   "cell_type": "code",
   "execution_count": null,
   "metadata": {},
   "outputs": [],
   "source": [
    "# The Stochastic Gradient Descent optimizer is built-in scikit-learn\n",
    "from sklearn.linear_model import SGDRegressor\n",
    "sgd_reg = SGDRegressor(max_iter=50, tol=-np.infty, penalty=None, eta0=0.1, random_state=42)\n",
    "sgd_reg.fit(X, y.ravel())"
   ]
  },
  {
   "cell_type": "code",
   "execution_count": null,
   "metadata": {},
   "outputs": [],
   "source": [
    "sgd_reg.intercept_, sgd_reg.coef_"
   ]
  },
  {
   "cell_type": "markdown",
   "metadata": {},
   "source": [
    "### Advanced topic: Mini-batch gradient descent"
   ]
  },
  {
   "cell_type": "markdown",
   "metadata": {},
   "source": [
    "Instead of computing the gradients based on the full training set (as in batch gradient descent [BGD}), or based on a single instance (as in stochastic gradient descent [SGD}) there is a third alternative: **mini-batch gradient descent** [MGD]:\n",
    "- For each step, use a random subset of the training data (say 10-25%) and compute the gradient based on that.\n",
    "- An epoch is defined as several such steps after which you have used all instances of training data. E.g. if the mini-batch size is 10% of all instances, then 10 non-overlapping steps would exhaust all data and would correspond to one epoch.\n",
    "- It is suggested to use a learning schedule with smaller and smaller steps."
   ]
  },
  {
   "cell_type": "markdown",
   "metadata": {},
   "source": [
    "The advantages of the mini-batch gradient descent are the following:\n",
    "- The convergence is less erratic than with SGD, while still being much faster than full BGD.\n",
    "- The gradient computation for a mini-batch is a matrix operation, which means that the algorithm can get a performance boost from hardware optimization, especially when using GPUs."
   ]
  },
  {
   "cell_type": "markdown",
   "metadata": {},
   "source": [
    "## Important note on gradient descent methods"
   ]
  },
  {
   "cell_type": "markdown",
   "metadata": {},
   "source": [
    "Gradient descent is a general optimization algorithm. However, there are several important issues that should be known before using it:\n",
    "1. It requires the computation of partial derivatives of the cost function. This is straight-forward for the linear regression method, but can be difficult for other models. The use of **automatic differentiation** is very popular in the ML community,and is well worth exploring. \n",
    "1. In principle, gradient descent works well for convex cost functions, i.e. where the gradient will eventually direct you to the position of the global minimum. Again, the linear regression problem is favorable because you can show that the cost function has that property. However, most cost functions---in particular in many dimensions---correspond to very **complicated surfaces with many local minima**. In those cases, gradient descent is often not a good method."
   ]
  },
  {
   "cell_type": "markdown",
   "metadata": {},
   "source": [
    "## Linear regression with higher-degree polynomials"
   ]
  },
  {
   "cell_type": "markdown",
   "metadata": {},
   "source": [
    "Any basis-expansion model that is linear in the parameters is a linear model. \n",
    "\n",
    "Here we will consider a case in which we use at least quadratic features in our model. This is sometimes known as *polynomial regression*, but this label is really a misnomer since it is still a linear regression problem."
   ]
  },
  {
   "cell_type": "code",
   "execution_count": null,
   "metadata": {},
   "outputs": [],
   "source": [
    "import numpy as np"
   ]
  },
  {
   "cell_type": "code",
   "execution_count": null,
   "metadata": {},
   "outputs": [],
   "source": [
    "# Let us generate some cubic data\n",
    "m = 100\n",
    "minX = -3\n",
    "maxX = 3\n",
    "np.random.seed(1)\n",
    "X = (maxX-minX) * np.random.rand(m, 1) + minX\n",
    "# up to cubic features, plus random noise\n",
    "theta_true = np.array([2, 1, 0.5, -0.25])\n",
    "eps_noise = 1.\n",
    "y = eps_noise * np.random.randn(m, 1)\n",
    "for order in range(len(theta_true)):\n",
    "    y += theta_true[order] * X**order"
   ]
  },
  {
   "cell_type": "code",
   "execution_count": null,
   "metadata": {},
   "outputs": [],
   "source": [
    "# Plot the data. It is pretty tricky to see the features\n",
    "fig,ax = plt.subplots(1,1)\n",
    "\n",
    "ax.plot(X, y, \"b.\")\n",
    "ax.set_xlabel(\"$x_1$\")\n",
    "ax.set_ylabel(\"$y$\");"
   ]
  },
  {
   "cell_type": "markdown",
   "metadata": {},
   "source": [
    "### using scikit-learn"
   ]
  },
  {
   "cell_type": "markdown",
   "metadata": {},
   "source": [
    "In the following we use the `LinearRegression` class from scikit-learn. You can equally well construct the design matrix and solve the normal equation explicitly with linear algebra."
   ]
  },
  {
   "cell_type": "markdown",
   "metadata": {},
   "source": [
    "The `PolynomialFeatures` class offers a fast way to construct the design matrix with all features up to a specified degree.\n",
    "\n",
    "Note that problems with more than one input dimension would then contain mixtures up to that degree. E.g., degree-two polynomial features for a problem with $x_1$ and $x_2$ would contain the following features:\n",
    "1 \n",
    "; $x_1$\n",
    "; $x_2$\n",
    "; $x_1^2$\n",
    "; $x_2^2$\n",
    "; $x_1 x_2$"
   ]
  },
  {
   "cell_type": "code",
   "execution_count": null,
   "metadata": {},
   "outputs": [],
   "source": [
    "from sklearn.preprocessing import PolynomialFeatures\n",
    "poly_features = PolynomialFeatures(degree=3, include_bias=False)\n",
    "X_poly = poly_features.fit_transform(X)"
   ]
  },
  {
   "cell_type": "code",
   "execution_count": null,
   "metadata": {},
   "outputs": [],
   "source": [
    "# Note that the first element of the instance vector is\n",
    "X[0]"
   ]
  },
  {
   "cell_type": "code",
   "execution_count": null,
   "metadata": {},
   "outputs": [],
   "source": [
    "# while the first element of the design matrix is\n",
    "# NOTE that we have excluded the bias term (x^0). \n",
    "# This term will later be added in the linear regression\n",
    "X_poly[0]"
   ]
  },
  {
   "cell_type": "code",
   "execution_count": null,
   "metadata": {},
   "outputs": [],
   "source": [
    "# perform the fit\n",
    "lin_reg = LinearRegression()\n",
    "lin_reg.fit(X_poly, y)\n",
    "\n",
    "# note the bias term, which is the attribute `intercept_` from the fit\n",
    "lin_reg.intercept_, lin_reg.coef_"
   ]
  },
  {
   "cell_type": "code",
   "execution_count": null,
   "metadata": {},
   "outputs": [],
   "source": [
    "# EXERCISE\n",
    "#\n",
    "# Compare to the \"known\" amplitudes of the different features. Why doesn't the fit parameters agree better?\n",
    "#\n",
    "#\n",
    "#"
   ]
  },
  {
   "cell_type": "code",
   "execution_count": null,
   "metadata": {},
   "outputs": [],
   "source": [
    "# Make predictions with the linear regression model on a linear grid of new points\n",
    "# The PolynomialFeatures.transfom method is useful for preparing the new data for a prediction,\n",
    "# but it is picky with the shape of the input vector.\n",
    "X_new=np.linspace(minX, maxX, 100).reshape(100, 1)\n",
    "X_new_poly = poly_features.transform(X_new)\n",
    "y_new = lin_reg.predict(X_new_poly)"
   ]
  },
  {
   "cell_type": "code",
   "execution_count": null,
   "metadata": {},
   "outputs": [],
   "source": [
    "# EXERCISE\n",
    "#\n",
    "# Plot the data and the prediction\n",
    "#\n",
    "#"
   ]
  },
  {
   "cell_type": "markdown",
   "metadata": {},
   "source": [
    "## Over- and underfitting"
   ]
  },
  {
   "cell_type": "markdown",
   "metadata": {},
   "source": [
    "We will explore fitting to models that have both too many and too few features."
   ]
  },
  {
   "cell_type": "code",
   "execution_count": null,
   "metadata": {},
   "outputs": [],
   "source": [
    "# For these fits we will employ scaling of the data\n",
    "# We use the built-in StandardScaler to rescale the data to zero mean and unit variance.\n",
    "# This will make the fit more stable\n",
    "from sklearn.preprocessing import StandardScaler\n",
    "from sklearn.pipeline import Pipeline\n",
    "\n",
    "fig,ax = plt.subplots(1,1)\n",
    "\n",
    "for style, degree in ((\"g-\", 100), (\"b--\", 3), (\"r-.\", 1)):\n",
    "    polybig_features = PolynomialFeatures(degree=degree, include_bias=False)\n",
    "    std_scaler = StandardScaler()\n",
    "    lin_reg = LinearRegression()\n",
    "    # Here we use a Pipeline that assembles several steps that we\n",
    "    # previously applied sequentially:\n",
    "    # 1. The data is transformed to the chosen polynomial features.\n",
    "    # 2. The data is transformed to mean=0 and variance=1 (usually makes it numerically more stable)\n",
    "    # 3. Perform the linear regression fit\n",
    "    polynomial_regression = Pipeline([\n",
    "            (\"poly_features\", polybig_features),\n",
    "            (\"std_scaler\", std_scaler),\n",
    "            (\"lin_reg\", lin_reg),\n",
    "        ])\n",
    "    polynomial_regression.fit(X, y)\n",
    "    y_newbig = polynomial_regression.predict(X_new)\n",
    "    ax.plot(X_new, y_newbig, style, label=f'{degree:>3}')\n",
    "\n",
    "\n",
    "ax.plot(X, y, \"b.\")\n",
    "ax.legend(loc=\"best\")\n",
    "ax.set_xlabel(\"$x_1$\")\n",
    "ax.set_ylim([-10,30])\n",
    "ax.set_ylabel(\"$y$\");"
   ]
  },
  {
   "cell_type": "markdown",
   "metadata": {},
   "source": [
    "- Note how the high-degree polynomial produces a very wiggly curve that tries very hard to go through the training data. The model explodes near the edges where there is no more training data. \n",
    "- The first degree polynomial, on the other hand, fails to pick up some trends in the data that is clearly there. "
   ]
  },
  {
   "cell_type": "code",
   "execution_count": null,
   "metadata": {},
   "outputs": [],
   "source": [
    "# EXERCISE\n",
    "#\n",
    "# Which of these models would you label as **overfitting** and which one as **underfitting** the data?"
   ]
  },
  {
   "cell_type": "markdown",
   "metadata": {},
   "source": [
    "### Learning curves"
   ]
  },
  {
   "cell_type": "markdown",
   "metadata": {},
   "source": [
    "In order to gauge a model's generalization performance (predictive power) it is common to split the data into a *training set* and a *validation set*. We will also see examples of a third set called the *test set*.\n",
    "\n",
    "**Learning curves** are plots of the model's performance on both the training and the validation sets, measured by some performance metric such as the mean squared error. This measure is plotted as a function of the size of the training set, or alternatively as a function of the training iterations."
   ]
  },
  {
   "cell_type": "markdown",
   "metadata": {},
   "source": [
    "#### Performance metric"
   ]
  },
  {
   "cell_type": "code",
   "execution_count": null,
   "metadata": {},
   "outputs": [],
   "source": [
    "# EXERCISE\n",
    "#\n",
    "# Before moving on, let us first make sure to understand the mean_squared_error metric.\n",
    "# Perform the training of a first-order polynomial model to the cubic data that we just generated.\n",
    "\n",
    "lin_reg = LinearRegression()\n",
    "lin_reg.fit(X, y)\n",
    "y_predict = lin_reg.predict(X)\n",
    "\n",
    "fig, ax = plt.subplots(figsize=(10,8))\n",
    "ax.plot(X, y_predict, \"r-\",label=\"Prediction\")\n",
    "ax.plot(X, y, \"b.\",label=\"Data\");"
   ]
  },
  {
   "cell_type": "code",
   "execution_count": null,
   "metadata": {},
   "outputs": [],
   "source": [
    "# EXERCISE\n",
    "#\n",
    "# Write your own function that evaluates the mean-squared-error metric on the training set. "
   ]
  },
  {
   "cell_type": "markdown",
   "metadata": {},
   "source": [
    "$\\mathrm{MSE} = \\frac{1}{m}\\sum_{i=1}^m \\left(y_i - y_{\\mathrm{predict},i} \\right)^2$"
   ]
  },
  {
   "cell_type": "code",
   "execution_count": null,
   "metadata": {},
   "outputs": [],
   "source": [
    "# EXERCISE\n",
    "#\n",
    "# Then import the built-in convenience function from sckikit-learn for computing the MSE metric\n",
    "from sklearn.metrics import mean_squared_error\n",
    "# and use it to compute the same metric. The numbers should agree."
   ]
  },
  {
   "cell_type": "markdown",
   "metadata": {},
   "source": [
    "#### Learning curves"
   ]
  },
  {
   "cell_type": "code",
   "execution_count": null,
   "metadata": {},
   "outputs": [],
   "source": [
    "# built-in convenience function for computing the MSE metric\n",
    "from sklearn.metrics import mean_squared_error\n",
    "# built-in convenience function for splitting data\n",
    "from sklearn.model_selection import train_test_split\n",
    "\n",
    "def plot_learning_curves(model, X, y, ax=None):\n",
    "    # split the data into training and validation sets\n",
    "    X_train, X_val, y_train, y_val = train_test_split(X, y, train_size=0.7, random_state=42)\n",
    "    train_errors, val_errors = [], []\n",
    "    for m in range(1, len(X_train)):\n",
    "        model.fit(X_train[:m], y_train[:m])\n",
    "        y_train_predict = model.predict(X_train[:m])\n",
    "        y_val_predict = model.predict(X_val)\n",
    "        train_errors.append(mean_squared_error(y_train[:m], y_train_predict))\n",
    "        val_errors.append(mean_squared_error(y_val, y_val_predict))\n",
    "\n",
    "    if not ax:\n",
    "        fig,ax = plt.subplots(1,1)\n",
    "    ax.plot(np.sqrt(train_errors), \"r-+\", label=\"train\")\n",
    "    ax.plot(np.sqrt(val_errors), \"b-\", label=\"validation\")\n",
    "    ax.legend(loc=\"best\")\n",
    "    ax.set_xlabel(\"Training set size\")\n",
    "    ax.set_ylabel(\"MSE\")"
   ]
  },
  {
   "cell_type": "markdown",
   "metadata": {},
   "source": [
    "Let us use a first-order polynomial to model the training data and plot the learning curve. Recall that a low mean-square error implies that the model predicts the data very well."
   ]
  },
  {
   "cell_type": "code",
   "execution_count": null,
   "metadata": {},
   "outputs": [],
   "source": [
    "lin_reg = LinearRegression()\n",
    "fig,ax = plt.subplots(1,1)\n",
    "plot_learning_curves(lin_reg, X, y, ax=ax)\n",
    "ax.set_ylim([0,4]);"
   ]
  },
  {
   "cell_type": "markdown",
   "metadata": {},
   "source": [
    "Several features deserves to be mentioned:\n",
    "1. The performance on the training set starts at zero when only 1-2 data are in the training set.\n",
    "1. The error on the training set then increases steadily as more data is added. \n",
    "1. It finally reaches a plateau.\n",
    "1. The validation error is initially very high, but reaches a plateau that is very close to the training error."
   ]
  },
  {
   "cell_type": "code",
   "execution_count": null,
   "metadata": {},
   "outputs": [],
   "source": [
    "# EXERCISE\n",
    "#\n",
    "# This features in a learning curve are typical for a model that underfits. \n",
    "# Can you explain / understand why that is?"
   ]
  },
  {
   "cell_type": "markdown",
   "metadata": {},
   "source": [
    "Now let us try a very high degree polynomial, which should be overfitting the data."
   ]
  },
  {
   "cell_type": "code",
   "execution_count": null,
   "metadata": {},
   "outputs": [],
   "source": [
    "from sklearn.pipeline import Pipeline\n",
    "\n",
    "polynomial_regression = Pipeline([\n",
    "        (\"poly_features\", PolynomialFeatures(degree=15, include_bias=False)),\n",
    "        (\"lin_reg\", LinearRegression()),\n",
    "    ])\n",
    "\n",
    "fig,ax = plt.subplots(1,1)\n",
    "plot_learning_curves(polynomial_regression, X, y, ax=ax)\n",
    "ax.set_ylim([0,4]);"
   ]
  },
  {
   "cell_type": "markdown",
   "metadata": {},
   "source": [
    "These learning curves are similar to the underfitting model; but there are some important differences:\n",
    "1. The training error is much smaller than with the linear model.\n",
    "1. There is no clear plateau.\n",
    "1. There is a gap between the curves, which implies that the model performs significantly better on the training data than on the validation set."
   ]
  },
  {
   "cell_type": "markdown",
   "metadata": {},
   "source": [
    "Both these examples that we have just studied demonstrate the so called **bias-variance tradeoff**.\n",
    "- A high bias model has a relatively large error, most probably due to wrong assumptions about the data features.\n",
    "- A high variance model is excessively sensitive to small variations in the training data.\n",
    "- The irreducible error is due to the noisiness of the data itself. It can only be reduced by obtaining better data."
   ]
  },
  {
   "cell_type": "markdown",
   "metadata": {},
   "source": [
    "We seek a more systematic way of distinguishing between under- and overfitting models, and for quantification of the different kinds of errors. \n",
    "\n",
    "We will find that **Bayesian statistics** has the promise to deliver on that ultimate goal.\n",
    "\n",
    "First, however, we study a common approach to avoid overfitting--namely **regularization**. We will later provide a Bayesian interpretation of this approach."
   ]
  },
  {
   "cell_type": "markdown",
   "metadata": {},
   "source": [
    "## Regularized models"
   ]
  },
  {
   "cell_type": "markdown",
   "metadata": {},
   "source": [
    "### Ridge regression"
   ]
  },
  {
   "cell_type": "code",
   "execution_count": null,
   "metadata": {},
   "outputs": [],
   "source": [
    "from sklearn.linear_model import Ridge"
   ]
  },
  {
   "cell_type": "code",
   "execution_count": null,
   "metadata": {},
   "outputs": [],
   "source": [
    "# Let's generate some noisy data with a linear feature.\n",
    "np.random.seed(1)\n",
    "m = 20\n",
    "X = 3 * np.random.rand(m, 1)\n",
    "y = 1 + 0.5 * X + 0.5 * np.random.randn(m, 1) \n",
    "X_new = np.linspace(0, 3, 100).reshape(100, 1)"
   ]
  },
  {
   "cell_type": "code",
   "execution_count": null,
   "metadata": {},
   "outputs": [],
   "source": [
    "def train_ridge_model(X_train, y_train, alpha, X_predict=None, degree=1, **model_kargs):\n",
    "    model = Ridge(alpha, **model_kargs) if alpha > 0 else LinearRegression()\n",
    "    model = Pipeline([\n",
    "        (\"poly_features\", PolynomialFeatures(degree=degree, include_bias=False)),\n",
    "        (\"std_scaler\", StandardScaler()),\n",
    "        (\"regul_reg\", model),\n",
    "        ])\n",
    "    model.fit(X_train, y_train)\n",
    "    if not len(X_predict):\n",
    "        X_predict=X_train\n",
    "    return model.predict(X_predict)"
   ]
  },
  {
   "cell_type": "code",
   "execution_count": null,
   "metadata": {},
   "outputs": [],
   "source": [
    "fig,axs = plt.subplots(1,2,figsize=(12,8))\n",
    "\n",
    "alphas=(0, 1e-5,10, 100)\n",
    "for i,degree in enumerate((1,10)):\n",
    "    ax = axs[i]\n",
    "    for alpha, style in zip(alphas, (\"b-\", \"k-.\", \"g--\", \"r:\")):\n",
    "        y_new_regul = train_ridge_model(X, y, alpha, X_predict=X_new, degree=degree, random_state=42)\n",
    "        ax.plot(X_new, y_new_regul, style, label=r'$\\alpha={}$'.format(alpha))\n",
    "    ax.plot(X, y, \"b.\")\n",
    "    ax.legend(loc=\"upper left\")\n",
    "    ax.set_xlabel(\"$x_1$\")\n",
    "    ax.axis([0, 3, 0, 4])\n",
    "\n",
    "axs[0].set_ylabel(\"$y$\");"
   ]
  },
  {
   "cell_type": "code",
   "execution_count": null,
   "metadata": {},
   "outputs": [],
   "source": []
  }
 ],
 "metadata": {
  "kernelspec": {
   "display_name": "Python 3",
   "language": "python",
   "name": "python3"
  },
  "language_info": {
   "codemirror_mode": {
    "name": "ipython",
    "version": 3
   },
   "file_extension": ".py",
   "mimetype": "text/x-python",
   "name": "python",
   "nbconvert_exporter": "python",
   "pygments_lexer": "ipython3",
   "version": "3.7.3"
  },
  "nav_menu": {},
  "toc": {
   "navigate_menu": true,
   "number_sections": true,
   "sideBar": true,
   "threshold": 6,
   "toc_cell": false,
   "toc_section_display": "block",
   "toc_window_display": false
  }
 },
 "nbformat": 4,
 "nbformat_minor": 1
}
