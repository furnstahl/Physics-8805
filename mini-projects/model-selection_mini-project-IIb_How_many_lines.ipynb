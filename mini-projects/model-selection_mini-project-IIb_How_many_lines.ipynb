{
 "cells": [
  {
   "cell_type": "markdown",
   "metadata": {},
   "source": [
    "# Mini-project IIb: How many lines are there  "
   ]
  },
  {
   "cell_type": "markdown",
   "metadata": {},
   "source": [
    "The overall project goal is to determine how many signal peaks there are in a noisy set of data."
   ]
  },
  {
   "cell_type": "markdown",
   "metadata": {},
   "source": [
    "**IMPORTANT:** You will need to use emcee 2.2.1 for this mini-project.  If you have updated to emcee 3.0, you will need to create a conda environment using `environment_emcee_2.2.1.yml` as described here: https://github.com/furnstahl/Physics-8805/blob/master/installation/install.md. (You can see what version of emcee you are using below when it is imported.)"
   ]
  },
  {
   "cell_type": "markdown",
   "metadata": {},
   "source": [
    "### Learning goals:\n",
    "* Use advanced Monte Carlo sampling to generate posterior probability distributions and analyze the results.\n",
    "* Compute an evidence ratio and explain what it means.\n",
    "* Employ Bayesian evidence for model selection in the context of a prototype for an experimental spectral measurement."
   ]
  },
  {
   "cell_type": "markdown",
   "metadata": {},
   "source": [
    "# A spectral line problem"
   ]
  },
  {
   "cell_type": "markdown",
   "metadata": {},
   "source": [
    "See e.g. section 4.2 in Sivia (see Carmen) for a similar problem formulation. In short, we have data from a spectroscopy experiment that supposedly shows a number of spectral lines. The ideal spectrum, as a function of a scaled coordinate $x$, can be expressed as\n",
    "\n",
    "$$ G(x) = \\sum_{j=1}^M A_j f(x,x_j),$$\n",
    "\n",
    "where $A_j$ is the amplitude of the $j$th line, and $x_j$ represents its position. If all the spectral lines were Gaussians of width $W$, for example, then\n",
    "\n",
    "$$ f(x,x_j) = \\frac{1}{\\sqrt{2\\pi W^2}} \\exp \\left[ - \\frac{(x-x_j)^2}{2 W^2} \\right]$$"
   ]
  },
  {
   "cell_type": "markdown",
   "metadata": {},
   "source": [
    "The measurement also includes a background signal which we take to be constant $B(x) = B$. \n",
    " \n",
    "We use the label '$k$' to enumerate the bins $\\{x_k\\}$ (do not confuse $x_k$ and $x_j$). The spectrum according to our model is therefore\n",
    " \n",
    " $$ F_k \\equiv F(x_k) = G(x_k) + B.$$"
   ]
  },
  {
   "cell_type": "markdown",
   "metadata": {},
   "source": [
    "The experimental data is denoted $\\{ D_k\\}$. This data also includes measurement errors $\\varepsilon$ that are assumed to be independent and identically distributed (IID) normal with the same variance $\\sigma_\\mathrm{exp}$. The measured data is then related to the ideal spectrum by\n",
    "\n",
    "$$ D_k \\equiv D(x_k) = G(x_k) + B + \\varepsilon.$$\n",
    "\n",
    "The task is to infer how many spectral lines ($M$) are in the experimental data, and their positions ($x_j$) and amplitudes ($A_j$). The magnitude of the background is not known before the analysis except that it must be $ \\leq 1$.\n",
    "\n",
    "Using scaled parameters the range of peak positions is $[0,1]$, and the range of amplitudes as well as background is also $[0,1]$."
   ]
  },
  {
   "cell_type": "markdown",
   "metadata": {},
   "source": [
    "### Solution strategy:\n",
    "Our model with $M$ lines has $2M+1$ model parameters that we denote by the vector $\\vec{\\alpha}$. These are the amplitudes, the positions, and the constant background. We order them as follows:\n",
    "\n",
    "$$ \\vec{\\alpha} = (A_0, x_0, A_1, x_1, \\ldots, B).$$\n",
    "\n",
    "The background strength is a *nuisance parameter* in the sense that we're not really interested in its value, we just need to marginalize over it."
   ]
  },
  {
   "cell_type": "markdown",
   "metadata": {},
   "source": [
    "### Subtasks (put your answers here):\n",
    "**For the first two, see Sivia 4.2 if you get stuck.**\n",
    "1. Formulate the problem of how many lines and what are the model parameters in Bayesian language.\n",
    "<br><br>\n",
    "1. Using the expressions from step 1, derive the approximate posterior probability:\n",
    "$$\n",
    "p(M | \\{ D_k \\}, I ) \\propto \n",
    "\\frac{M! (4 \\pi)^M }{\\left[ x_\\mathrm{max} - x_\\mathrm{min} \\right]^M \\left[ A_\\mathrm{max} - A_\\mathrm{min} \\right]^M \\sqrt{\\det(\\boldsymbol\\nabla \\boldsymbol\\nabla \\chi^2)} } \n",
    "\\exp \\left( - \\frac{\\chi^2_\\mathrm{min}}{2} \\right).\n",
    "$$\n",
    "<br><br>\n",
    "1. **Bonus:** Explain how you might compute this probability numerically using Python. For this imagined numerical implementation you should consider that some model parameters enter non-linearly in your likelihood. (Note: you do not need to implement this calculation.)\n",
    "<br><br>\n",
    "1. Generate data using the code snippet below, but plan to change values to explore the dependence of the analysis on the number and relative position of peaks, noise, background, etc. Note that the random seed is initialized to specific values in this notebook. You should start with this example, but should then run the data generator several times to observe the degree of fluctuation.\n",
    "<br><br>\n",
    "1. First let's see what happens with ordinary sampling to perform parameter estimation. Run the code below that uses emcee (our favorite MCMC sampler) for first one and then two signal peaks (`numpeaks = 1` then `2`). Comment on the posterior pdf (note that this is the full posterior now, not an approximation) in the two cases for the first corner plot and then the second. What is the difference between these plots? (Hint: what is the reason the first plot is multimodal when the model has two peaks?)\n",
    "<br><br>\n",
    "1. Run the parallel tempering code to compute the log evidence for a model with $M$ peaks, looking at $M$ from 1 to 4.  Fill in your results in the table here.  What are your conclusions about the number of peaks based on the evidence?  Does the evidence have a clear maximum or does it saturate?  Connect this result to the in-class discussion.\n",
    "<br><br>\n",
    "\n",
    "| numpeaks | log evidence |\n",
    "|:--------:| :------: |\n",
    "| 1        |   &nbsp; |\n",
    "| 2        |   &nbsp; |\n",
    "| 3        |   &nbsp; |\n",
    "| 4        |   &nbsp; |\n",
    "\n",
    "\n"
   ]
  },
  {
   "cell_type": "markdown",
   "metadata": {},
   "source": [
    "7. **For a plus:** Repeat the parallel tempering calculation and discussion but for data with three peaks and smaller width and noise.\n",
    "<br><br>\n",
    "\n",
    "| numpeaks | log evidence |\n",
    "|:--------:| :------: |\n",
    "| 1        |   &nbsp; |\n",
    "| 2        |   &nbsp; |\n",
    "| 3        |   &nbsp; |\n",
    "| 4        |   &nbsp; |\n",
    "\n"
   ]
  },
  {
   "cell_type": "markdown",
   "metadata": {},
   "source": [
    "## Import statements"
   ]
  },
  {
   "cell_type": "code",
   "execution_count": null,
   "metadata": {},
   "outputs": [],
   "source": [
    "%matplotlib inline\n",
    "import numpy as np\n",
    "import scipy.stats, scipy\n",
    "\n",
    "import matplotlib.pyplot as plt\n",
    "import seaborn as sns\n",
    "sns.set() # set default plot styles\n",
    "\n",
    "import emcee\n",
    "from emcee import PTSampler\n",
    "import corner\n",
    "print('Running on emcee v{}'.format(emcee.__version__))"
   ]
  },
  {
   "cell_type": "markdown",
   "metadata": {},
   "source": [
    "## Generate data"
   ]
  },
  {
   "cell_type": "markdown",
   "metadata": {},
   "source": [
    "### Parameters known before the analysis (explore different values for these as requested)"
   ]
  },
  {
   "cell_type": "code",
   "execution_count": null,
   "metadata": {},
   "outputs": [],
   "source": [
    "# Width W and noise sigma_exp\n",
    "W = 0.12  # to try: switch to 0.10 # The width of the spectral lines\n",
    "sigma_exp = 0.4  # to try: switch to 0.2 # Variance of IID experimental errors "
   ]
  },
  {
   "cell_type": "code",
   "execution_count": null,
   "metadata": {},
   "outputs": [],
   "source": [
    "# Fixed prior ranges (Don't change these)\n",
    "xmin=0; xmax=1;\n",
    "Amin=0; Amax=1;\n",
    "Bmax=1.;"
   ]
  },
  {
   "cell_type": "markdown",
   "metadata": {},
   "source": [
    "### Parameters that should be learned from the data"
   ]
  },
  {
   "cell_type": "code",
   "execution_count": null,
   "metadata": {},
   "outputs": [],
   "source": [
    "np.random.seed(3) # Uncomment to reproduce the same data\n",
    "\n",
    "# Number of lines\n",
    "M = 2 \n",
    "\n",
    "# Amplitudes of the spectral lines\n",
    "A0 = 10**np.random.uniform(low=-.5, high=0, size=M) \n",
    "\n",
    "# Positions of the spectral lines\n",
    "X0 = np.ones(M)*np.random.uniform(low=.1, high=.4, size=1) \n",
    "\n",
    "# Special treatment to place the lines close together\n",
    "for i in np.arange(1,M):\n",
    "    X0[i] += np.random.normal(loc=.3,scale=.1)\n",
    "    X0[i] = min(0.95,X0[i])\n",
    "    X0[i] = max(0.05,X0[i])\n",
    "\n",
    "B = np.random.uniform(0.05, 0.8) # A constant background signal\n",
    "\n",
    "print(\"True values:   Peak amplitude     Peak position\")\n",
    "print(\"-----------    --------------     -------------\")\n",
    "for iM in range(M):\n",
    "    print(f\"     peak #{iM}             {A0[iM]:.2f}              {X0[iM]:.2f}  \")\n",
    "print(f\" Background:             {B:.2f}\")"
   ]
  },
  {
   "cell_type": "code",
   "execution_count": null,
   "metadata": {},
   "outputs": [],
   "source": [
    "# Define a truths array that will be of length 2*M + 1\n",
    "truths = np.empty((2*X0.size + 1,), dtype=X0.dtype)\n",
    "truths[-1] = B\n",
    "truths[0:-1:2] = A0\n",
    "truths[1:-1:2] = X0\n",
    "\n",
    "# Define a labels list with parameter names\n",
    "labels = []\n",
    "for iM in range(M):\n",
    "    labels.append(f\"$A_{iM}$\")\n",
    "    labels.append(f\"$X_{iM}$\")\n",
    "labels.append(f\"$B$\")"
   ]
  },
  {
   "cell_type": "code",
   "execution_count": null,
   "metadata": {},
   "outputs": [],
   "source": [
    "def f(x,x0,w):\n",
    "    '''Simple Gaussian line shape. Position x0, width w.'''\n",
    "    return np.exp(- (x-x0)**2 / (2 * w**2)) / np.sqrt(2*np.pi*w**2)\n",
    "\n",
    "def G(x,amplitudes,positions,width=W):\n",
    "    '''Ideal spectrum composed of N spectral lines with input amplitudes \n",
    "    and positions (arrays of length N), and a single, fixed width.'''\n",
    "    ideal = np.zeros_like(x)\n",
    "    for a,x0 in zip(amplitudes,positions):\n",
    "        ideal += a * f(x,x0,width)\n",
    "    return ideal"
   ]
  },
  {
   "cell_type": "code",
   "execution_count": null,
   "metadata": {},
   "outputs": [],
   "source": [
    "x=np.linspace(xmin,xmax,100)\n",
    "plt.plot(x,G(x,A0,X0,W))\n",
    "plt.xlabel('$x$ [x-unit]')\n",
    "plt.ylabel('$y$ [y-unit]');"
   ]
  },
  {
   "cell_type": "markdown",
   "metadata": {},
   "source": [
    "Assert: \n",
    "1. unknown constant background ($B\\le 1$), unknown number of spectral lines with unknown amplitudes and positions.\n",
    "2. known, natural width (W) of the spectral lines\n",
    "3. known variance ($\\sigma_\\mathrm{exp}$) for the IID normal experimental errors\n",
    "4. known and relevant interval:\n",
    "   peak positions within [xmin=0, xmax=1] in position space, \n",
    "   peak amplitudes within [Amin=0, Amax=1], "
   ]
  },
  {
   "cell_type": "code",
   "execution_count": null,
   "metadata": {},
   "outputs": [],
   "source": [
    "print(f'Natural width of spectral lines:                W = {W}')\n",
    "print(f'Variance for IID normal exp errors:             s = {sigma_exp}')\n",
    "print(f'Relevant range in position space:    [xmin, xmax] = [{xmin:.1f}, {xmax:.1f}]')\n",
    "print(f'Relevant range for peak amplitudes:  [Amin, Amax] = [{Amin:.1f}, {Amax:.1f}]')"
   ]
  },
  {
   "cell_type": "code",
   "execution_count": null,
   "metadata": {},
   "outputs": [],
   "source": [
    "# Generate experimental data\n",
    "np.random.seed(42) # For reproducibility.  Set 42 to 0 for different values.\n",
    "Ndata = 100 # Number of data points\n",
    "xk = np.linspace(xmin, xmax, Ndata)\n",
    "sk=np.ones_like(xk) * sigma_exp # We assume that the variance is the same for all k\n",
    "ek = np.random.normal(loc=0.0, scale=sigma_exp, size=Ndata)\n",
    "Dk = G(xk,A0,X0,W) + B + ek\n",
    "# Data saved in a file (but also printed below)\n",
    "data = [xk,Dk,sk]"
   ]
  },
  {
   "cell_type": "code",
   "execution_count": null,
   "metadata": {},
   "outputs": [],
   "source": [
    "plt.errorbar(xk,Dk,yerr=sk,fmt='ok',ecolor='gray')\n",
    "plt.xlabel('$x$ [x-unit]')\n",
    "plt.ylabel('$y$ [y-unit]');"
   ]
  },
  {
   "cell_type": "markdown",
   "metadata": {},
   "source": [
    "## Parameter estimation with your favorite MCMC sampler (emcee here!)"
   ]
  },
  {
   "cell_type": "markdown",
   "metadata": {},
   "source": [
    "We will use an MCMC to draw samples from the posterior in order to solve the model fitting problem. We will use the emcee package, which requires us to first define functions which compute the prior, likelihood, and posterior under each model.  The model is determined by the number of peaks, which in turn defines the dimension of the model (an amplitude and a location to determine for each peak, plus the background amplitude)."
   ]
  },
  {
   "cell_type": "markdown",
   "metadata": {},
   "source": [
    "### emcee"
   ]
  },
  {
   "cell_type": "code",
   "execution_count": null,
   "metadata": {},
   "outputs": [],
   "source": [
    "# Uniform priors for parameters\n",
    "\n",
    "def log_prior(alpha):\n",
    "    '''Logarithm of prior.\n",
    "    \n",
    "    Flat priors over predetermined ranges\n",
    "    The size of alpha determines the model.\n",
    "    Amplitudes are elements 0, 2, 4, ..., [0:-1:2]\n",
    "    Positions are elements 1,3,5, ...     [1:-1:2]\n",
    "    Background is the last element.    [-1]\n",
    "    '''\n",
    "    \n",
    "    # All parameters must be positive\n",
    "    if np.any(alpha < 0):\n",
    "        return -np.inf  # log(0)\n",
    "    # All amplitudes are assumed to be smaller than Amax\n",
    "    elif np.any(alpha[0:-1:2] > Amax):\n",
    "        return -np.inf\n",
    "    # The positions are assumed to be in the [xmin, xmax] range\n",
    "    elif np.any(alpha[1:-1:2] > xmax):\n",
    "        return -np.inf\n",
    "    # The background signal is assumed to be smaller than Bmax\n",
    "    elif alpha[-1] > Bmax:\n",
    "        return -np.inf\n",
    "    else:\n",
    "        return 0 # log(1), note that it is not properly normalized"
   ]
  },
  {
   "cell_type": "code",
   "execution_count": null,
   "metadata": {},
   "outputs": [],
   "source": [
    "def model_func(alpha, x=xk, width=W):\n",
    "    '''Computes the model ideal spectrum Fk'''\n",
    "    _amplitudes = alpha[0:-1:2]\n",
    "    _positions = alpha[1:-1:2]\n",
    "    _background = alpha[-1]\n",
    "    return G(x,_amplitudes,_positions,width) + _background\n",
    "\n",
    "def log_likelihood(alpha, data=data):\n",
    "    '''Logarithm of likelihood function.\n",
    "    \n",
    "    Returns the negative sum of the squared residuals, which is\n",
    "    equivalent to a chi-square measure or the logarithm of a\n",
    "    gaussian likelihood function.\n",
    "    '''\n",
    "    x, y, sigma_y = data\n",
    "    model_y = model_func(alpha,x=x)\n",
    "    residuals = (model_y - y) / sigma_y\n",
    "    return -0.5 * np.sum(residuals**2)"
   ]
  },
  {
   "cell_type": "code",
   "execution_count": null,
   "metadata": {},
   "outputs": [],
   "source": [
    "def log_posterior(alpha, data=data):\n",
    "    '''Logarithm of posterior.'''\n",
    "    _alpha = np.asarray(alpha)\n",
    "    return log_prior(_alpha) + log_likelihood(_alpha, data=data)"
   ]
  },
  {
   "cell_type": "code",
   "execution_count": null,
   "metadata": {},
   "outputs": [],
   "source": [
    "numpeaks=1 # Number of peaks in the *model*. *** You set this ***\n",
    "           #  Note how numpeaks determines ndim below.\n",
    "    \n",
    "nwalkers=50 \n",
    "nburn=1000\n",
    "nsteps=5000\n",
    "\n",
    "ndim = numpeaks*2 + 1  # this determines the model dimension\n",
    "\n",
    "starting_guesses = (np.random.rand(nwalkers, ndim) * \\\n",
    "                    np.tile(np.ones(ndim), (nwalkers, 1)))\n",
    "sampler = emcee.EnsembleSampler(nwalkers, ndim, log_posterior, args=[data])\n",
    "sampler.run_mcmc(starting_guesses, nsteps)\n",
    "trace_unordered = sampler.chain[:, nburn:, :].reshape(-1, ndim)"
   ]
  },
  {
   "cell_type": "code",
   "execution_count": null,
   "metadata": {
    "scrolled": false
   },
   "outputs": [],
   "source": [
    "# First a corner plot without the ordered samples\n",
    "figure = corner.corner(trace_unordered)"
   ]
  },
  {
   "cell_type": "code",
   "execution_count": null,
   "metadata": {},
   "outputs": [],
   "source": [
    "trace = np.copy(trace_unordered)\n",
    "\n",
    "for i, sample in enumerate(trace_unordered):\n",
    "    # Sort by proposed peak position since (x0,x1,...) is the same as (x1,x0,...)\n",
    "    x_sort = np.argsort(sample[1:-1:2])*2+1\n",
    "    sample_sort = np.empty((2*x_sort.size + 1,), dtype=x_sort.dtype)\n",
    "    sample_sort[-1]=len(sample_sort)-1\n",
    "    sample_sort[1:-1:2] = x_sort\n",
    "    sample_sort[0:-1:2] = x_sort-1\n",
    "    trace[i] = sample[sample_sort]"
   ]
  },
  {
   "cell_type": "code",
   "execution_count": null,
   "metadata": {},
   "outputs": [],
   "source": [
    "if numpeaks==2:\n",
    "    truths_corner = truths\n",
    "else:\n",
    "    truths_corner = None\n",
    "\n",
    "# Define a labels list with parameter names\n",
    "labels_corner = []\n",
    "for iM in range(numpeaks):\n",
    "    labels_corner.append(f\"$A_{iM}$\")\n",
    "    labels_corner.append(f\"$X_{iM}$\")\n",
    "labels_corner.append(f\"$B$\")\n",
    "\n",
    "figure = corner.corner(trace[:,:],labels=labels_corner,\n",
    "                       quantiles=[0.16, 0.5, 0.84],truths=truths_corner,\n",
    "                       show_titles=True, title_fmt='.3f', title_kwargs={\"fontsize\": 12})"
   ]
  },
  {
   "cell_type": "code",
   "execution_count": null,
   "metadata": {},
   "outputs": [],
   "source": [
    "params = np.percentile(trace_unordered, [16, 50, 84], axis=0)\n",
    "with np.printoptions(precision=2):\n",
    "    print(f\"True values:\", truths) \n",
    "    print(f\"       MAP:\", params[1,:]) "
   ]
  },
  {
   "cell_type": "code",
   "execution_count": null,
   "metadata": {},
   "outputs": [],
   "source": [
    "plt.errorbar(xk, Dk, yerr=sk, fmt='ok', ecolor='gray')\n",
    "x = np.linspace(xmin,xmax,100)\n",
    "plt.plot(x, G(x,params[1,0:-1:2], params[1,1:-1:2]) + params[1,-1])\n",
    "plt.xlabel('$x$ [x-unit]')\n",
    "plt.ylabel('$y$ [y-unit]');"
   ]
  },
  {
   "cell_type": "markdown",
   "metadata": {},
   "source": [
    "### Using parallel tempering: pt-sampler"
   ]
  },
  {
   "cell_type": "code",
   "execution_count": null,
   "metadata": {},
   "outputs": [],
   "source": [
    "numpeaks = 1 # Number of peaks in the *model* (step through 1, 2, 3, 4)\n",
    "             #  Note how this determines ndim below."
   ]
  },
  {
   "cell_type": "code",
   "execution_count": null,
   "metadata": {},
   "outputs": [],
   "source": [
    "# Now we can construct a sampler object that will drive the PTMCMC; \n",
    "# in the first pass we chose to use 21 temperatures \n",
    "# (the default is for each temperature to increase by a factor of sqrt(2), \n",
    "# so the highest temperature will be T=1024, resulting in an effective \n",
    "# \\sigma_T=32\\sigma=3.2, which is about the separation of our modes). \n",
    "\n",
    "#ntemps = 21\n",
    "#temps = np.array([np.sqrt(2)**i for i in range(ntemps)])\n",
    "\n",
    "# This did not work well, so we modified the temperature ladder to improve \n",
    "#  the integration for evidence calculation:\n",
    "#  need more low temperatures, i.e. finer grid near beta = 1.\n",
    "ntemps_lo = 8\n",
    "ntemps_hi = 21\n",
    "temps_lo = np.array([2**(i/8.) for i in range(ntemps_lo)])\n",
    "temps_hi = np.array([np.sqrt(2)**i for i in range(ntemps_hi)])\n",
    "temps = np.concatenate((temps_lo,temps_hi[temps_hi>max(temps_lo)]))\n",
    "ntemps=len(temps)\n",
    "\n",
    "betas=1/temps\n",
    "\n",
    "# Let us use 10 walkers in the ensemble at each temperature:\n",
    "ndim = numpeaks*2 + 1  # this determines the model dimension\n",
    "nwalkers = max(10,ndim*2+2)\n",
    "\n",
    "nburnin=1000\n",
    "nsteps=5000\n",
    "nthin = 10 # only record every nthin iteration\n",
    "\n",
    "nthreads = 1"
   ]
  },
  {
   "cell_type": "code",
   "execution_count": null,
   "metadata": {},
   "outputs": [],
   "source": [
    "p0 = np.random.uniform(size=(ntemps, nwalkers, ndim))"
   ]
  },
  {
   "cell_type": "code",
   "execution_count": null,
   "metadata": {},
   "outputs": [],
   "source": [
    "sampler=PTSampler(ntemps, nwalkers, ndim, log_likelihood, log_prior, \n",
    "                  threads=nthreads, betas=betas)\n",
    "\n",
    "#Making the sampling multi-threaded is as simple as adding the threads=Nthreads \n",
    "# argument to PTSampler. We could have modified the temperature ladder using the \n",
    "# betas optional argument (which should be an array of \\beta=1/T values). \n",
    "\n",
    "#First, we run the sampler for 1000 burn-in iterations:\n",
    "print(\"Running burn-in phase\")\n",
    "for p, lnprob, lnlike in sampler.sample(p0, iterations=nburnin):\n",
    "    pass\n",
    "sampler.reset()\n",
    "\n",
    "print(\"Running MCMC chains\")\n",
    "#Now we sample for nwalkers*niterations, recording every nthin-th sample:\n",
    "\n",
    "for p, lnprob, lnlike in sampler.sample(p, lnprob0=lnprob,\n",
    "                                        lnlike0=lnlike,\n",
    "                                        iterations=nsteps, thin=nthin):\n",
    "    pass "
   ]
  },
  {
   "cell_type": "code",
   "execution_count": null,
   "metadata": {},
   "outputs": [],
   "source": [
    "pt_sampler_T0 = sampler.chain[0,...].reshape(-1,ndim)\n",
    "figure = corner.corner(pt_sampler_T0)\n",
    "\n",
    "# Extract the axes\n",
    "axes = np.array(figure.axes).reshape((ndim, ndim))"
   ]
  },
  {
   "cell_type": "markdown",
   "metadata": {},
   "source": [
    "#### Perform thermodynamic integration from PT sampler"
   ]
  },
  {
   "cell_type": "code",
   "execution_count": null,
   "metadata": {},
   "outputs": [],
   "source": [
    "# From PT sampler\n",
    "(lnZ, dlnZ) = sampler.thermodynamic_integration_log_evidence()\n",
    "print(f\"The log evidence is {lnZ:.3f} +/- {dlnZ:.3f}\")\n",
    "print(\"NOTE: This thermodynamic integration output from PT Sampler\",\\\n",
    "      \"may not be very reliable due to poor numerical integration.\")\n",
    "print(\"Better do it yourself (see below).\")"
   ]
  },
  {
   "cell_type": "code",
   "execution_count": null,
   "metadata": {},
   "outputs": [],
   "source": [
    "# Array with beta values (1/T)\n",
    "betas = sampler.betas\n",
    "avg_lnl = np.zeros_like(betas) # averages of log likelihood for different beta\n",
    "var_lnl = np.zeros_like(betas) # variances of log likelihood for different beta\n",
    "for ib,b in enumerate(betas):\n",
    "    avg_lnl[ib] = np.mean(sampler.lnlikelihood[ib,...].reshape(-1))\n",
    "    var_lnl[ib] = np.var(sampler.lnlikelihood[ib,...].reshape(-1))\n",
    "    \n",
    "betas0 = np.concatenate((sampler.betas, np.array([0])))\n",
    "dbetas = np.diff(betas0)"
   ]
  },
  {
   "cell_type": "code",
   "execution_count": null,
   "metadata": {},
   "outputs": [],
   "source": [
    "plt.plot(betas,avg_lnl,'ko-')\n",
    "ax=plt.gca()\n",
    "ymin=np.ones_like(betas)*min(avg_lnl)\n",
    "ax.fill_between(betas, ymin,avg_lnl,facecolor='green', alpha=0.1)\n",
    "fig=plt.gcf()\n",
    "#ax.set_ylim([-100,-30]);\n",
    "ax.set_xlim([0.,1.05]);\n",
    "ax.set_xlabel(r'$\\beta$');\n",
    "ax.set_ylabel(r'$\\ln\\left(Z(\\beta)\\right)$');"
   ]
  },
  {
   "cell_type": "code",
   "execution_count": null,
   "metadata": {},
   "outputs": [],
   "source": [
    "print(\"Integrate using trapezoid approximation with N={} points\".format(ntemps))\n",
    "print(\"from {:.4e} to {:.4e}\".format(betas0[0],betas0[-1]))\n",
    "lnzl = -np.trapz(avg_lnl, x=betas)\n",
    "print(f\"\\nWe find log-evidence = {lnzl:7.4f}\".format())\n"
   ]
  }
 ],
 "metadata": {
  "kernelspec": {
   "display_name": "Python 3",
   "language": "python",
   "name": "python3"
  },
  "language_info": {
   "codemirror_mode": {
    "name": "ipython",
    "version": 3
   },
   "file_extension": ".py",
   "mimetype": "text/x-python",
   "name": "python",
   "nbconvert_exporter": "python",
   "pygments_lexer": "ipython3",
   "version": "3.8.3"
  }
 },
 "nbformat": 4,
 "nbformat_minor": 1
}
